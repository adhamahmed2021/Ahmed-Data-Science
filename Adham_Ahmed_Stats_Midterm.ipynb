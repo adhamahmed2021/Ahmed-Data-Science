{
  "cells": [
    {
      "cell_type": "markdown",
      "metadata": {
        "id": "view-in-github",
        "colab_type": "text"
      },
      "source": [
        "<a href=\"https://colab.research.google.com/github/adhamahmed2021/Ahmed-Data-Science/blob/main/Adham_Ahmed_Stats_Midterm.ipynb\" target=\"_parent\"><img src=\"https://colab.research.google.com/assets/colab-badge.svg\" alt=\"Open In Colab\"/></a>"
      ]
    },
    {
      "cell_type": "markdown",
      "metadata": {
        "id": "WyqM99KnfwFM"
      },
      "source": [
        "# STA 2023 Midterm Project\n",
        "\n",
        "Directions:\n",
        "\n",
        "*   Use any and all resources available to you\n",
        "*   Comment and explain the code\n",
        "*   Answer the questions to the best of your abilities\n",
        "*   There are no points for pain: ask for help\n",
        "\n",
        "Save this notebook to your GitHub and submit the link."
      ]
    },
    {
      "cell_type": "code",
      "execution_count": null,
      "metadata": {
        "id": "ZE7xzRUigBYy"
      },
      "outputs": [],
      "source": [
        "import numpy as np #provide colab with a library of numbers\n",
        "import matplotlib.pyplot as plt #provide colab with a graphing tool"
      ]
    },
    {
      "cell_type": "markdown",
      "metadata": {
        "id": "tkn5UxLMg4GS"
      },
      "source": [
        "## Part 1: Getting your data\n",
        "\n",
        "Create a google form to input your data.\n",
        "Follow the same method as [Lab 5](https://colab.research.google.com/drive/1zYvyhrz2wVnJXlZqj_PpxOxplfS3LN9Y?usp=sharing)."
      ]
    },
    {
      "cell_type": "code",
      "execution_count": null,
      "metadata": {
        "id": "B0XQVmQIgdrp"
      },
      "outputs": [],
      "source": [
        "import pandas as pd #panda provides relational data structures\n",
        "def get_database(url):  # This function loads the google spreadsheet\n",
        "    url_head = \"https://docs.google.com/spreadsheets/d/\" \n",
        "    url_foot = \"/gviz/tq?tqx=out:csv&sheet=\"\n",
        "    url_body = url.split('/')[5] #splits header and footer\n",
        "    sheet_name = \"1\" #sheet is named 1\n",
        "    url_csv = url_head + url_body + url_foot + sheet_name\n",
        "    df = pd.read_csv(url_csv, sep=',', skiprows=0)\n",
        "    return df"
      ]
    },
    {
      "cell_type": "markdown",
      "metadata": {
        "id": "e3G1Q_8rjlLI"
      },
      "source": [
        "Put your form url here:"
      ]
    },
    {
      "cell_type": "code",
      "execution_count": null,
      "metadata": {
        "id": "PfAztwghjql2"
      },
      "outputs": [],
      "source": [
        "url = 'https://docs.google.com/spreadsheets/d/1ZlwYIyXGJlwaUH0jgcOA3Yyu68L_x7ZRu-enD0syfzw/edit?resourcekey=undefined#gid=1163100090' #url variable is spreadsheet link"
      ]
    },
    {
      "cell_type": "code",
      "execution_count": null,
      "metadata": {
        "id": "_SA4UhnqjyhY"
      },
      "outputs": [],
      "source": [
        "data = get_database(url) #retrieves data from google spreadsheet"
      ]
    },
    {
      "cell_type": "code",
      "execution_count": null,
      "metadata": {
        "id": "HwjOm5sgj2JA"
      },
      "outputs": [],
      "source": [
        "diameters = np.array([2.4,3,6,8,12]) #give 5 values to variable \"diameters\"\n",
        "circumferences = np.array([8,9,19,25,38]) #give 5 values to variable \"circumferences\""
      ]
    },
    {
      "cell_type": "markdown",
      "metadata": {
        "id": "INpIcEh1mUKn"
      },
      "source": [
        "Plot your data points"
      ]
    },
    {
      "cell_type": "code",
      "execution_count": null,
      "metadata": {
        "colab": {
          "base_uri": "https://localhost:8080/",
          "height": 295
        },
        "id": "uoX4t7tIj8id",
        "outputId": "4cd3d26c-8186-42c6-f916-ce069e571b76"
      },
      "outputs": [
        {
          "output_type": "display_data",
          "data": {
            "text/plain": [
              "<Figure size 432x288 with 1 Axes>"
            ],
            "image/png": "[encoded data removed]"
          },
          "metadata": {
            "needs_background": "light"
          }
        }
      ],
      "source": [
        "plt.title(\"Circle Diameter vs Circumference\") #graph title\n",
        "\n",
        "plt.xlabel(\"Circle Diameter\") #x axis label\n",
        "plt.ylabel(\"Circumference\") #y axis label\n",
        "\n",
        "plt.plot(diameters,circumferences,'.'); #plot the 2 axes with blue dots"
      ]
    },
    {
      "cell_type": "code",
      "execution_count": null,
      "metadata": {
        "id": "xtQXFuObFavC"
      },
      "outputs": [],
      "source": [
        "x = diameters # xaxis = np.array([2.4,3,6,8,12])\n",
        "y = circumferences #yaxis = np.array([8,9,19,25,38])"
      ]
    },
    {
      "cell_type": "markdown",
      "metadata": {
        "id": "IhT_tn8ym8N8"
      },
      "source": [
        "## Part 2: Linear Fit\n",
        "\n",
        "Follow the steps in the [Linear Fit notebook]() to run a linear fit on your data."
      ]
    },
    {
      "cell_type": "code",
      "execution_count": null,
      "metadata": {
        "id": "KZn5uJ31nk4X"
      },
      "outputs": [],
      "source": [
        "best_loss = 1000000000\n",
        "best_m = 0\n",
        "best_b = 0 \n",
        "\n",
        "for m_guess in np.linspace(-100,100,100): #100 guesses for the slope from -100 to 100\n",
        "    for b_guess in np.linspace(-100,100,100): #100 guesses for the y-intercept from -100 to 100\n",
        "        \n",
        "        print(\"Now Testing: \", m_guess, b_guess)\n",
        "\n",
        "        y_guess = m_guess * x + b_guess #best fit value = slope guess*x value + y-intercept guess\n",
        "\n",
        "        loss = np.sum((y_guess - y)**2) #loss is how far the point is from the line of best fit\n",
        "\n",
        "        if loss < best_loss:\n",
        "            \n",
        "            best_loss = loss\n",
        "            best_m = m_guess\n",
        "            best_b = b_guess "
      ]
    },
    {
      "cell_type": "markdown",
      "metadata": {
        "id": "I0KofkS9p7hu"
      },
      "source": [
        "Plot the line of best fit:\n",
        "\n",
        "Use blue dots for the collected data and a red line for the estimate."
      ]
    },
    {
      "cell_type": "code",
      "execution_count": null,
      "metadata": {
        "colab": {
          "base_uri": "https://localhost:8080/",
          "height": 312
        },
        "id": "sMnM9BTZGqzA",
        "outputId": "d71dd46c-d521-47ae-e191-81519d8b84ad"
      },
      "outputs": [
        {
          "output_type": "stream",
          "name": "stdout",
          "text": [
            "1.7850219365370872 3.030303030303031 1.0101010101010104\n"
          ]
        },
        {
          "output_type": "display_data",
          "data": {
            "text/plain": [
              "<Figure size 432x288 with 1 Axes>"
            ],
            "image/png": "[encoded data removed]"
          },
          "metadata": {
            "needs_background": "light"
          }
        }
      ],
      "source": [
        "y_guess = best_m * x + best_b\n",
        "plt.title('Linear Fit of Circles')\n",
        "plt.xlabel('Diameter')\n",
        "plt.ylabel('Circumference')\n",
        "plt.plot(x,y_guess,'r', label=f'Estimate: $y = 3.03x + 1.01$'); #plot line of best fit with a red line, labeled \"Estimate: $y = 3.03x + 1.01$\" in the legend\n",
        "plt.plot(x,y,'.',label='Observations'); #plot collected data with blue dots, labeled \"observations\" in the legend\n",
        "plt.legend();\n",
        "\n",
        "print(best_loss,best_m,best_b) #print deviation of point from line, best fit slope, and best fit intercept"
      ]
    },
    {
      "cell_type": "markdown",
      "metadata": {
        "id": "4zCAPG3upXN9"
      },
      "source": [
        "The estimated relationship is:\n",
        "\n",
        "$C = 3.03D + 1.01$"
      ]
    },
    {
      "cell_type": "markdown",
      "metadata": {
        "id": "7FBlUtdwt_hd"
      },
      "source": [
        "## Part 3: Interpretation\n",
        "\n",
        "Answer the questions in text cells"
      ]
    },
    {
      "cell_type": "markdown",
      "metadata": {
        "id": "9xIvwJhOuGDh"
      },
      "source": [
        "#### Question 1:\n",
        "\n",
        "What do $m$ and $b$ represent in these equations?"
      ]
    },
    {
      "cell_type": "markdown",
      "metadata": {
        "id": "OC_Ja53Yugfn"
      },
      "source": [
        "$m$ is the slope of the line and $b$ is the y-intercept."
      ]
    },
    {
      "cell_type": "markdown",
      "metadata": {
        "id": "_7xl4z8kubLo"
      },
      "source": [
        "#### Question 2:\n",
        "\n",
        "Guess what the correct values $m$ and $b$ should be."
      ]
    },
    {
      "cell_type": "markdown",
      "metadata": {
        "id": "Te_52DvOuhZ-"
      },
      "source": [
        "$m$ = 3.14\n",
        "\n",
        "$b$ = 0"
      ]
    },
    {
      "cell_type": "markdown",
      "metadata": {
        "id": "2yrRt2wMubSC"
      },
      "source": [
        "#### Question 3:\n",
        "\n",
        "Does it make sense to include $b$ in the parameters?"
      ]
    },
    {
      "cell_type": "markdown",
      "metadata": {
        "id": "F0gbHr8_uiWi"
      },
      "source": [
        "I do not think it makes sense to include $b$ because it adds nothing to the equation. A circle with 0 diamter has 0 circumference, which dictates the y-intercept. Hence, $b$ is 0."
      ]
    },
    {
      "cell_type": "markdown",
      "metadata": {
        "id": "_3LN79rPujMz"
      },
      "source": [
        "## Bonus:\n",
        "\n",
        "These problems are extra credit. You may use any resources, but be sure to explain your code."
      ]
    },
    {
      "cell_type": "markdown",
      "metadata": {
        "id": "wk0Ox4nqvFcT"
      },
      "source": [
        "#### Bonus 1: Plot the squared errors from your line of best fit"
      ]
    },
    {
      "cell_type": "code",
      "execution_count": null,
      "metadata": {
        "id": "O8IQn-B_vXAN"
      },
      "outputs": [],
      "source": [
        "plt.title(\"Fit Errors\")\n",
        "\n",
        "plt.xlabel(\"Diameter\")\n",
        "plt.ylabel(\"Squared Error\")\n",
        "\n",
        "squared_error = ...\n",
        "\n",
        "plt.plot(..., 'b.', label = \"Errors\")\n",
        "\n",
        "plt.legend();"
      ]
    },
    {
      "cell_type": "markdown",
      "metadata": {
        "id": "ojVobjtBwK9o"
      },
      "source": [
        "#### Bonus 2: Plot the errors as a histogram"
      ]
    },
    {
      "cell_type": "code",
      "execution_count": null,
      "metadata": {
        "id": "WJkR3s9kwujU"
      },
      "outputs": [],
      "source": [
        "plt.title(\"Errors\")\n",
        "\n",
        "..."
      ]
    },
    {
      "cell_type": "markdown",
      "metadata": {
        "id": "k9nm1qADyFiA"
      },
      "source": [
        "What distribution does this histogram look like?"
      ]
    },
    {
      "cell_type": "markdown",
      "metadata": {
        "id": "r2Vo3k0xyKiK"
      },
      "source": []
    },
    {
      "cell_type": "markdown",
      "metadata": {
        "id": "qfDuImTvrF5V"
      },
      "source": [
        "#### Bonus 3: Find the circle with the largest error. \n",
        "Hint: use np.max"
      ]
    },
    {
      "cell_type": "code",
      "execution_count": null,
      "metadata": {
        "id": "k7ShpKK6vWrH"
      },
      "outputs": [],
      "source": [
        "largest_error = ..."
      ]
    },
    {
      "cell_type": "markdown",
      "metadata": {
        "id": "oQCq4D4uwZ7I"
      },
      "source": [
        "#### Bonus 4: Remove the circles with the 2 largest errors and run the fit again.\n"
      ]
    },
    {
      "cell_type": "code",
      "execution_count": null,
      "metadata": {
        "id": "EjddA54wwKPY"
      },
      "outputs": [],
      "source": [
        "..."
      ]
    },
    {
      "cell_type": "markdown",
      "metadata": {
        "id": "V2jyayR-yOvF"
      },
      "source": [
        "What is the difference in your error?"
      ]
    },
    {
      "cell_type": "markdown",
      "metadata": {
        "id": "F1ZCdkHyyY9x"
      },
      "source": []
    },
    {
      "cell_type": "markdown",
      "metadata": {
        "id": "1y-okVy_w22o"
      },
      "source": [
        "#### Bonus 5: Find and explain a better method of fitting this data"
      ]
    },
    {
      "cell_type": "code",
      "execution_count": null,
      "metadata": {
        "id": "sfOiajQCxH_7"
      },
      "outputs": [],
      "source": []
    }
  ],
  "metadata": {
    "colab": {
      "collapsed_sections": [],
      "provenance": [],
      "include_colab_link": true
    },
    "kernelspec": {
      "display_name": "Python 3",
      "name": "python3"
    },
    "language_info": {
      "name": "python"
    }
  },
  "nbformat": 4,
  "nbformat_minor": 0
}