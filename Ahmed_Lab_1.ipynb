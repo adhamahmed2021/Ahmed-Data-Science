{
  "nbformat": 4,
  "nbformat_minor": 0,
  "metadata": {
    "colab": {
      "provenance": [],
      "authorship_tag": "ABX9TyOcQsNrXAx1MGM2KmynvxIV",
      "include_colab_link": true
    },
    "kernelspec": {
      "name": "python3",
      "display_name": "Python 3"
    },
    "language_info": {
      "name": "python"
    }
  },
  "cells": [
    {
      "cell_type": "markdown",
      "metadata": {
        "id": "view-in-github",
        "colab_type": "text"
      },
      "source": [
        "<a href=\"https://colab.research.google.com/github/adhamahmed2021/Ahmed-Data-Science/blob/main/Ahmed_Lab_1.ipynb\" target=\"_parent\"><img src=\"https://colab.research.google.com/assets/colab-badge.svg\" alt=\"Open In Colab\"/></a>"
      ]
    },
    {
      "cell_type": "markdown",
      "source": [
        "# Lab #1 Notebook"
      ],
      "metadata": {
        "id": "alTXyLn0xEuF"
      }
    },
    {
      "cell_type": "code",
      "source": [
        "2+2 #you can do basic math operations"
      ],
      "metadata": {
        "colab": {
          "base_uri": "https://localhost:8080/"
        },
        "id": "0inZskreyck6",
        "outputId": "80d165e0-c64b-430d-ac05-7f8d45d8e2a1"
      },
      "execution_count": null,
      "outputs": [
        {
          "output_type": "execute_result",
          "data": {
            "text/plain": [
              "4"
            ]
          },
          "metadata": {},
          "execution_count": 3
        }
      ]
    },
    {
      "cell_type": "code",
      "source": [
        "2*8 #an asterik means multiplication"
      ],
      "metadata": {
        "colab": {
          "base_uri": "https://localhost:8080/"
        },
        "id": "UxTtzoOHxevl",
        "outputId": "90b2d36a-b913-48e8-c243-4c6d4cb6a14b"
      },
      "execution_count": null,
      "outputs": [
        {
          "output_type": "execute_result",
          "data": {
            "text/plain": [
              "16"
            ]
          },
          "metadata": {},
          "execution_count": 4
        }
      ]
    },
    {
      "cell_type": "code",
      "source": [
        "2**8 #2 asteriks mean exponentiation"
      ],
      "metadata": {
        "colab": {
          "base_uri": "https://localhost:8080/"
        },
        "id": "CQ548yaRxhLE",
        "outputId": "d26b9b9b-b96c-4976-9b6b-0792836525ab"
      },
      "execution_count": null,
      "outputs": [
        {
          "output_type": "execute_result",
          "data": {
            "text/plain": [
              "256"
            ]
          },
          "metadata": {},
          "execution_count": 5
        }
      ]
    },
    {
      "cell_type": "code",
      "source": [
        "2**12345"
      ],
      "metadata": {
        "colab": {
          "base_uri": "https://localhost:8080/"
        },
        "id": "cu71vrCvxjmV",
        "outputId": "5b729485-e4d0-4173-9c28-f8efb4888ff8"
      },
      "execution_count": null,
      "outputs": [
        {
          "output_type": "execute_result",
          "data": {
            "text/plain": [
              "164171010688258216356020741663906501410127235530735881272116103087925094171390144280159034536439457734870419127140401667195510331085657185332721089236401193044493457116299768844344303479235489462436380672117015123283299131391904179287678259173308536738761981139958654880852234908448338817289014166774169869251339379828599748492918775437864739032217778051333882990074116246281269364933724892342134504702491040016637557429810893780765197418589477584716543480995722533317862352141459217781316266211186486157019262080414077670264642736018426998113523445732680856144329876972273300703392584997729207197971083945700345494092400147186997307012069454068489589035676979448169848060836924945824197706493306108258511936030341393221586423523264452449403781993352421885094664052270795527632721896121424813173522474674395886155092203404036730748474781710715745446135468098139831824083259647919175273503681561172684624283384438504776503000432241604550454374116320822227191911322123484085063926350606342197146407841178028071147192533942517270553513988142925976090769695456221159699052583533011331652079347093098173086975483539274464023357456484465482927479569437320368592222760278170306076733438801098370797675711274671054970711442158930561684343135774118741594506702833147396758825015850042983343690345185995956235143825771620543546030664562647854656431302644574119873820215595718618624485232422006575550007068883734241454686368856734496265385908809403972494685137741122866896719678053937285818409751670320140501843039224040735870096889596273419106389103662095318937990625980136711988237421962315266686856089505981438440850638067589321141759499017023839596858455548192000140085142294166987063499024792681334843159790936321351919859758669569200541507612099780909705198902176026219872201715422096090343686272984351441594569506778041062663266799342793856313801540959815845788584759033248828248561586450271172777240971795656082001848115815260930521663167480173886064019118572778281516735157779555888167787064432558595410843987446497881666288423233170060413025924629950477303342180149398926073618582715358742250388958231281694757980523791263699450732952325727664209947786063982561775327638504516918570101319391698412388607603742484414748268389669129118026878969735782286841116842656410574647607524418900720328045377993386279808768990376289424757351052369393977137871998119168898493037938756635621557623138404459266598837784229325799838782026060481496865561757031839002257091802876949248392744175669112242088439883248336310597001257385980776961529351198877747193531054956881808332177946751404038228718567911769630971553915410012677600002457982207465176670752102117002773980548089696530972476439694599881281812973217265853884727906535479745854085338851105144585481994156206497436745899944877732531412541279014300324594890623941145509856940982863769834430048120562966797907114102689879364945689860493474954538422367719507882513166051007352994068319251450666676648368200564329382998758875760414259654004977261309988267319806354856051784553990936610634733375984159028722378614984450255386315585631994503350002142910493190254825610707400589976364985748467955131077971641882672895854571236368282811336220769174784720113331269084746524204124263475054112841630933586166195036115696469686075600480420563557567616835633252622327172811002146392754445051182169805284630259703542633955126179520113059629914229833688535925729676778028406897316106101038469119090984567152591962365415039646394591503830797626339246986057077758611413664914168745375266786298141171496573941614387744125843685677063619782918759823106021054037757857761587472240835040580447360544029064930412569943169729238102162312218687930203068055400275795180972382856696655279408212344832"
            ]
          },
          "metadata": {},
          "execution_count": 6
        }
      ]
    },
    {
      "cell_type": "code",
      "source": [
        "4.7876+9.87654"
      ],
      "metadata": {
        "colab": {
          "base_uri": "https://localhost:8080/"
        },
        "id": "Pk114E3zxl20",
        "outputId": "506ef7bc-42fb-412d-9c67-98989521ad1a"
      },
      "execution_count": null,
      "outputs": [
        {
          "output_type": "execute_result",
          "data": {
            "text/plain": [
              "14.66414"
            ]
          },
          "metadata": {},
          "execution_count": 7
        }
      ]
    },
    {
      "cell_type": "code",
      "source": [
        "4.7876*9.87654"
      ],
      "metadata": {
        "colab": {
          "base_uri": "https://localhost:8080/"
        },
        "id": "sFhy45lnxxgk",
        "outputId": "c66a457c-96c4-4afa-b356-70ebb6bb8087"
      },
      "execution_count": null,
      "outputs": [
        {
          "output_type": "execute_result",
          "data": {
            "text/plain": [
              "47.284922904000005"
            ]
          },
          "metadata": {},
          "execution_count": 8
        }
      ]
    },
    {
      "cell_type": "code",
      "source": [
        "4.7876/9.87654 #a forward slash means division"
      ],
      "metadata": {
        "colab": {
          "base_uri": "https://localhost:8080/"
        },
        "id": "M6uSZdnpx2mW",
        "outputId": "b6364878-1181-443f-cfc5-526910b0d6db"
      },
      "execution_count": null,
      "outputs": [
        {
          "output_type": "execute_result",
          "data": {
            "text/plain": [
              "0.48474465754201373"
            ]
          },
          "metadata": {},
          "execution_count": 9
        }
      ]
    },
    {
      "cell_type": "code",
      "source": [
        "# this is a comment"
      ],
      "metadata": {
        "id": "9HSf0opPx5oG"
      },
      "execution_count": null,
      "outputs": []
    },
    {
      "cell_type": "code",
      "source": [
        "8/4 #one forward slash produces a decimal answer"
      ],
      "metadata": {
        "colab": {
          "base_uri": "https://localhost:8080/"
        },
        "id": "3PX0CgwEx9Xl",
        "outputId": "d2818d4f-6f9d-47b2-e13b-7172772b9617"
      },
      "execution_count": null,
      "outputs": [
        {
          "output_type": "execute_result",
          "data": {
            "text/plain": [
              "2.0"
            ]
          },
          "metadata": {},
          "execution_count": 78
        }
      ]
    },
    {
      "cell_type": "code",
      "source": [
        "8//4 #2 forward slashes produce a whole number answer"
      ],
      "metadata": {
        "colab": {
          "base_uri": "https://localhost:8080/"
        },
        "id": "ZBWQ-y4RyBul",
        "outputId": "7cf9b902-0842-47f2-9ddb-384bc36853f2"
      },
      "execution_count": null,
      "outputs": [
        {
          "output_type": "execute_result",
          "data": {
            "text/plain": [
              "2"
            ]
          },
          "metadata": {},
          "execution_count": 79
        }
      ]
    },
    {
      "cell_type": "code",
      "source": [
        "13%12 #percent sign is called modulo operator ” % “ which returns the remainder after dividing the left-hand operand by right-hand operand."
      ],
      "metadata": {
        "colab": {
          "base_uri": "https://localhost:8080/"
        },
        "id": "hupursiNyDnm",
        "outputId": "7d4540e3-bb69-49c1-e50a-adc42f9dc4bb"
      },
      "execution_count": null,
      "outputs": [
        {
          "output_type": "execute_result",
          "data": {
            "text/plain": [
              "1"
            ]
          },
          "metadata": {},
          "execution_count": 13
        }
      ]
    },
    {
      "cell_type": "code",
      "source": [
        "22%12"
      ],
      "metadata": {
        "colab": {
          "base_uri": "https://localhost:8080/"
        },
        "id": "7PSQJzjmyOX1",
        "outputId": "43c0a069-7e37-4119-b6fe-b77102280ba3"
      },
      "execution_count": null,
      "outputs": [
        {
          "output_type": "execute_result",
          "data": {
            "text/plain": [
              "10"
            ]
          },
          "metadata": {},
          "execution_count": 14
        }
      ]
    },
    {
      "cell_type": "markdown",
      "source": [
        "# Variables"
      ],
      "metadata": {
        "id": "biMc3Y6SyUtr"
      }
    },
    {
      "cell_type": "code",
      "source": [
        "apples = 5 #you can create variables"
      ],
      "metadata": {
        "id": "9rl--cYtyXuq"
      },
      "execution_count": null,
      "outputs": []
    },
    {
      "cell_type": "code",
      "source": [
        "apples #run the varible name to make sure it works properly"
      ],
      "metadata": {
        "colab": {
          "base_uri": "https://localhost:8080/"
        },
        "id": "I4NcI_9QymKV",
        "outputId": "79c71217-b931-4f77-d73c-06ebc41186ec"
      },
      "execution_count": null,
      "outputs": [
        {
          "output_type": "execute_result",
          "data": {
            "text/plain": [
              "5"
            ]
          },
          "metadata": {},
          "execution_count": 81
        }
      ]
    },
    {
      "cell_type": "code",
      "source": [
        "apple #if you make a small typo, like missing the \"s\", the command will not work"
      ],
      "metadata": {
        "colab": {
          "base_uri": "https://localhost:8080/",
          "height": 165
        },
        "id": "ZFXdaVSoynam",
        "outputId": "ff7048fc-a388-406c-fc82-79eeab8a18c9"
      },
      "execution_count": null,
      "outputs": [
        {
          "output_type": "error",
          "ename": "NameError",
          "evalue": "ignored",
          "traceback": [
            "\u001b[0;31m---------------------------------------------------------------------------\u001b[0m",
            "\u001b[0;31mNameError\u001b[0m                                 Traceback (most recent call last)",
            "\u001b[0;32m<ipython-input-82-12d7d3c26c00>\u001b[0m in \u001b[0;36m<module>\u001b[0;34m\u001b[0m\n\u001b[0;32m----> 1\u001b[0;31m \u001b[0mapple\u001b[0m \u001b[0;31m#if you make a small typo, like missing the \"s\", the command will not work\u001b[0m\u001b[0;34m\u001b[0m\u001b[0;34m\u001b[0m\u001b[0m\n\u001b[0m",
            "\u001b[0;31mNameError\u001b[0m: name 'apple' is not defined"
          ]
        }
      ]
    },
    {
      "cell_type": "code",
      "source": [
        "oranges = 8"
      ],
      "metadata": {
        "id": "1jc22Jucyr7Y"
      },
      "execution_count": null,
      "outputs": []
    },
    {
      "cell_type": "code",
      "source": [
        "apples+oranges #you can add variables once they have been assigned a value"
      ],
      "metadata": {
        "colab": {
          "base_uri": "https://localhost:8080/"
        },
        "id": "uB1T8B-Uyu7m",
        "outputId": "6c4e8330-7036-4d24-bcfd-eaa27c409d98"
      },
      "execution_count": null,
      "outputs": [
        {
          "output_type": "execute_result",
          "data": {
            "text/plain": [
              "13"
            ]
          },
          "metadata": {},
          "execution_count": 83
        }
      ]
    },
    {
      "cell_type": "code",
      "source": [
        "total = apples+oranges #you can make new variables from other existing variables"
      ],
      "metadata": {
        "id": "KfAauk7yywv2"
      },
      "execution_count": null,
      "outputs": []
    },
    {
      "cell_type": "code",
      "source": [
        "total"
      ],
      "metadata": {
        "colab": {
          "base_uri": "https://localhost:8080/"
        },
        "id": "g8WN9PIfy4AV",
        "outputId": "53552388-d7a2-4006-9eb9-086a93dacabb"
      },
      "execution_count": null,
      "outputs": [
        {
          "output_type": "execute_result",
          "data": {
            "text/plain": [
              "13"
            ]
          },
          "metadata": {},
          "execution_count": 21
        }
      ]
    },
    {
      "cell_type": "markdown",
      "source": [
        "#Variables pt2\n"
      ],
      "metadata": {
        "id": "CxvMwBTWzaZW"
      }
    },
    {
      "cell_type": "code",
      "source": [
        "print(apples) #another way of running a variable name"
      ],
      "metadata": {
        "colab": {
          "base_uri": "https://localhost:8080/"
        },
        "id": "iXuE9oYWy5U1",
        "outputId": "c2b99418-d186-41fc-fac0-bf7a75e72e86"
      },
      "execution_count": null,
      "outputs": [
        {
          "output_type": "stream",
          "name": "stdout",
          "text": [
            "5\n"
          ]
        }
      ]
    },
    {
      "cell_type": "code",
      "source": [
        "apples**2 #perform mathematical operations using variables"
      ],
      "metadata": {
        "colab": {
          "base_uri": "https://localhost:8080/"
        },
        "id": "Ijz065gUzTy1",
        "outputId": "cefa36dc-5275-4456-cb3c-d353555c630e"
      },
      "execution_count": null,
      "outputs": [
        {
          "output_type": "execute_result",
          "data": {
            "text/plain": [
              "25"
            ]
          },
          "metadata": {},
          "execution_count": 86
        }
      ]
    },
    {
      "cell_type": "code",
      "source": [
        "cost_per_apples=0.25\n"
      ],
      "metadata": {
        "id": "kxX-kOHVzm-3"
      },
      "execution_count": null,
      "outputs": []
    },
    {
      "cell_type": "code",
      "source": [
        "cost_per_apples"
      ],
      "metadata": {
        "colab": {
          "base_uri": "https://localhost:8080/"
        },
        "id": "VRJzgy57zs14",
        "outputId": "ee823d06-9dd6-4665-e792-7162bc356cd9"
      },
      "execution_count": null,
      "outputs": [
        {
          "output_type": "execute_result",
          "data": {
            "text/plain": [
              "0.25"
            ]
          },
          "metadata": {},
          "execution_count": 25
        }
      ]
    },
    {
      "cell_type": "code",
      "source": [
        "total_apples_cost= apples*cost_per_apples"
      ],
      "metadata": {
        "id": "reMiHPkhzwgY"
      },
      "execution_count": null,
      "outputs": []
    },
    {
      "cell_type": "code",
      "source": [
        "total_apples_cost"
      ],
      "metadata": {
        "colab": {
          "base_uri": "https://localhost:8080/"
        },
        "id": "Fqo9PQDR0FNM",
        "outputId": "d978eedf-8749-4f3d-a72c-6425b4617e16"
      },
      "execution_count": null,
      "outputs": [
        {
          "output_type": "execute_result",
          "data": {
            "text/plain": [
              "1.25"
            ]
          },
          "metadata": {},
          "execution_count": 27
        }
      ]
    },
    {
      "cell_type": "markdown",
      "source": [
        "#Adham's Store\n"
      ],
      "metadata": {
        "id": "1ju4HP-W0VpN"
      }
    },
    {
      "cell_type": "code",
      "source": [
        "shirt_cost=25"
      ],
      "metadata": {
        "id": "_q4weFA40avM"
      },
      "execution_count": null,
      "outputs": []
    },
    {
      "cell_type": "code",
      "source": [
        "pants_cost=45\n"
      ],
      "metadata": {
        "id": "-yRkO6eT0fPs"
      },
      "execution_count": null,
      "outputs": []
    },
    {
      "cell_type": "code",
      "source": [
        "shoes_cost=90"
      ],
      "metadata": {
        "id": "cqBn1o930jwu"
      },
      "execution_count": null,
      "outputs": []
    },
    {
      "cell_type": "code",
      "source": [
        "shirts_sold=12"
      ],
      "metadata": {
        "id": "7PJkThZy0nU-"
      },
      "execution_count": null,
      "outputs": []
    },
    {
      "cell_type": "code",
      "source": [
        "pants_sold=15"
      ],
      "metadata": {
        "id": "YqmqLDHg0rG-"
      },
      "execution_count": null,
      "outputs": []
    },
    {
      "cell_type": "code",
      "source": [
        "shoes_sold=7"
      ],
      "metadata": {
        "id": "Gqhplder0wEe"
      },
      "execution_count": null,
      "outputs": []
    },
    {
      "cell_type": "code",
      "source": [
        "total_sales = (shirt_cost*shirts_sold) + (pants_cost*pants_sold) +(shoes_cost*shoes_sold)"
      ],
      "metadata": {
        "id": "nMifpqtA0yI-"
      },
      "execution_count": null,
      "outputs": []
    },
    {
      "cell_type": "code",
      "source": [
        "total_sales #this is in dollars"
      ],
      "metadata": {
        "colab": {
          "base_uri": "https://localhost:8080/"
        },
        "id": "ijlCIjp71LBM",
        "outputId": "abc11510-9cc9-4be5-d092-26b3bbc5df7e"
      },
      "execution_count": null,
      "outputs": [
        {
          "output_type": "execute_result",
          "data": {
            "text/plain": [
              "1605"
            ]
          },
          "metadata": {},
          "execution_count": 35
        }
      ]
    },
    {
      "cell_type": "code",
      "source": [
        "total_shirt_cost = (shirt_cost*shirts_sold)"
      ],
      "metadata": {
        "id": "LMK0qiMo1Nlr"
      },
      "execution_count": null,
      "outputs": []
    },
    {
      "cell_type": "code",
      "source": [
        "total_pants_cost = (pants_cost*pants_sold)"
      ],
      "metadata": {
        "id": "WK34Is6l2BCA"
      },
      "execution_count": null,
      "outputs": []
    },
    {
      "cell_type": "code",
      "source": [
        "total_shoes_cost = (shoes_cost*shoes_sold)"
      ],
      "metadata": {
        "id": "lSk3aPGu2BIn"
      },
      "execution_count": null,
      "outputs": []
    },
    {
      "cell_type": "code",
      "source": [
        "total_shirt_cost,total_pants_cost,total_shoes_cost #you can list items using commas in a cell of code"
      ],
      "metadata": {
        "colab": {
          "base_uri": "https://localhost:8080/"
        },
        "id": "oCjQRki62Ust",
        "outputId": "3a40ae75-5874-4a09-ff8a-ffb70e5656f8"
      },
      "execution_count": null,
      "outputs": [
        {
          "output_type": "execute_result",
          "data": {
            "text/plain": [
              "(300, 675, 630)"
            ]
          },
          "metadata": {},
          "execution_count": 87
        }
      ]
    },
    {
      "cell_type": "code",
      "source": [
        "total= total_shirt_cost+total_pants_cost+total_shoes_cost"
      ],
      "metadata": {
        "id": "ZsvvEY_62auu"
      },
      "execution_count": null,
      "outputs": []
    },
    {
      "cell_type": "code",
      "source": [
        "total"
      ],
      "metadata": {
        "colab": {
          "base_uri": "https://localhost:8080/"
        },
        "id": "4Drue6ME2iq-",
        "outputId": "f412c5a2-e592-4bc0-c0f9-f1d0643a355f"
      },
      "execution_count": null,
      "outputs": [
        {
          "output_type": "execute_result",
          "data": {
            "text/plain": [
              "1605"
            ]
          },
          "metadata": {},
          "execution_count": 41
        }
      ]
    },
    {
      "cell_type": "markdown",
      "source": [
        "# Vectors"
      ],
      "metadata": {
        "id": "bRlqC9Cd2lQu"
      }
    },
    {
      "cell_type": "code",
      "source": [
        "import numpy as np #provide colab with a library of numbers"
      ],
      "metadata": {
        "id": "pTo6InzO2oiO"
      },
      "execution_count": null,
      "outputs": []
    },
    {
      "cell_type": "code",
      "source": [
        "import matplotlib.pyplot as plt #provide colab with a graphing tool\n"
      ],
      "metadata": {
        "id": "RoBmd_dj27jX"
      },
      "execution_count": null,
      "outputs": []
    },
    {
      "cell_type": "code",
      "source": [
        "np.arange(10) #ask colab to provide the first 10 numbers (python starts counting at 0)"
      ],
      "metadata": {
        "colab": {
          "base_uri": "https://localhost:8080/"
        },
        "id": "7wwdlx3E27mO",
        "outputId": "efee5d98-9040-420d-e4cd-ed5bbb576632"
      },
      "execution_count": null,
      "outputs": [
        {
          "output_type": "execute_result",
          "data": {
            "text/plain": [
              "array([0, 1, 2, 3, 4, 5, 6, 7, 8, 9])"
            ]
          },
          "metadata": {},
          "execution_count": 88
        }
      ]
    },
    {
      "cell_type": "code",
      "source": [
        "x=np.arange(10) #assign a variable name to an array of numbers"
      ],
      "metadata": {
        "id": "aBDEsUnP27pN"
      },
      "execution_count": null,
      "outputs": []
    },
    {
      "cell_type": "code",
      "source": [
        "x"
      ],
      "metadata": {
        "colab": {
          "base_uri": "https://localhost:8080/"
        },
        "id": "jk4E3L4u4gaz",
        "outputId": "c5ebd555-8dbf-4582-aa53-7f06e5504b21"
      },
      "execution_count": null,
      "outputs": [
        {
          "output_type": "execute_result",
          "data": {
            "text/plain": [
              "array([0, 1, 2, 3, 4, 5, 6, 7, 8, 9])"
            ]
          },
          "metadata": {},
          "execution_count": 46
        }
      ]
    },
    {
      "cell_type": "code",
      "source": [
        "x+1 #ask colab to add 1 to every value in the array"
      ],
      "metadata": {
        "colab": {
          "base_uri": "https://localhost:8080/"
        },
        "id": "ofciyoOR4lBz",
        "outputId": "d838accb-0929-47e8-8849-2921f53ef854"
      },
      "execution_count": null,
      "outputs": [
        {
          "output_type": "execute_result",
          "data": {
            "text/plain": [
              "array([ 1,  2,  3,  4,  5,  6,  7,  8,  9, 10])"
            ]
          },
          "metadata": {},
          "execution_count": 47
        }
      ]
    },
    {
      "cell_type": "code",
      "source": [
        "x*2 #ask colab to multiply every value in the array by 2"
      ],
      "metadata": {
        "colab": {
          "base_uri": "https://localhost:8080/"
        },
        "id": "kRqKwnBV4noj",
        "outputId": "45c8d0c0-80b2-4299-8408-27315f787e01"
      },
      "execution_count": null,
      "outputs": [
        {
          "output_type": "execute_result",
          "data": {
            "text/plain": [
              "array([0.        , 0.04040404, 0.08080808, 0.12121212, 0.16161616,\n",
              "       0.2020202 , 0.24242424, 0.28282828, 0.32323232, 0.36363636,\n",
              "       0.4040404 , 0.44444444, 0.48484848, 0.52525253, 0.56565657,\n",
              "       0.60606061, 0.64646465, 0.68686869, 0.72727273, 0.76767677,\n",
              "       0.80808081, 0.84848485, 0.88888889, 0.92929293, 0.96969697,\n",
              "       1.01010101, 1.05050505, 1.09090909, 1.13131313, 1.17171717,\n",
              "       1.21212121, 1.25252525, 1.29292929, 1.33333333, 1.37373737,\n",
              "       1.41414141, 1.45454545, 1.49494949, 1.53535354, 1.57575758,\n",
              "       1.61616162, 1.65656566, 1.6969697 , 1.73737374, 1.77777778,\n",
              "       1.81818182, 1.85858586, 1.8989899 , 1.93939394, 1.97979798,\n",
              "       2.02020202, 2.06060606, 2.1010101 , 2.14141414, 2.18181818,\n",
              "       2.22222222, 2.26262626, 2.3030303 , 2.34343434, 2.38383838,\n",
              "       2.42424242, 2.46464646, 2.50505051, 2.54545455, 2.58585859,\n",
              "       2.62626263, 2.66666667, 2.70707071, 2.74747475, 2.78787879,\n",
              "       2.82828283, 2.86868687, 2.90909091, 2.94949495, 2.98989899,\n",
              "       3.03030303, 3.07070707, 3.11111111, 3.15151515, 3.19191919,\n",
              "       3.23232323, 3.27272727, 3.31313131, 3.35353535, 3.39393939,\n",
              "       3.43434343, 3.47474747, 3.51515152, 3.55555556, 3.5959596 ,\n",
              "       3.63636364, 3.67676768, 3.71717172, 3.75757576, 3.7979798 ,\n",
              "       3.83838384, 3.87878788, 3.91919192, 3.95959596, 4.        ])"
            ]
          },
          "metadata": {},
          "execution_count": 89
        }
      ]
    },
    {
      "cell_type": "code",
      "source": [
        "x**2 #ask colab to square every number in the array"
      ],
      "metadata": {
        "colab": {
          "base_uri": "https://localhost:8080/"
        },
        "id": "__aBNXSh4xHD",
        "outputId": "6d5685f9-7256-40b5-df78-ebed3351700e"
      },
      "execution_count": null,
      "outputs": [
        {
          "output_type": "execute_result",
          "data": {
            "text/plain": [
              "array([0.00000000e+00, 4.08121620e-04, 1.63248648e-03, 3.67309458e-03,\n",
              "       6.52994592e-03, 1.02030405e-02, 1.46923783e-02, 1.99979594e-02,\n",
              "       2.61197837e-02, 3.30578512e-02, 4.08121620e-02, 4.93827160e-02,\n",
              "       5.87695133e-02, 6.89725538e-02, 7.99918376e-02, 9.18273646e-02,\n",
              "       1.04479135e-01, 1.17947148e-01, 1.32231405e-01, 1.47331905e-01,\n",
              "       1.63248648e-01, 1.79981635e-01, 1.97530864e-01, 2.15896337e-01,\n",
              "       2.35078053e-01, 2.55076013e-01, 2.75890215e-01, 2.97520661e-01,\n",
              "       3.19967350e-01, 3.43230283e-01, 3.67309458e-01, 3.92204877e-01,\n",
              "       4.17916539e-01, 4.44444444e-01, 4.71788593e-01, 4.99948985e-01,\n",
              "       5.28925620e-01, 5.58718498e-01, 5.89327620e-01, 6.20752984e-01,\n",
              "       6.52994592e-01, 6.86052444e-01, 7.19926538e-01, 7.54616876e-01,\n",
              "       7.90123457e-01, 8.26446281e-01, 8.63585348e-01, 9.01540659e-01,\n",
              "       9.40312213e-01, 9.79900010e-01, 1.02030405e+00, 1.06152433e+00,\n",
              "       1.10356086e+00, 1.14641363e+00, 1.19008264e+00, 1.23456790e+00,\n",
              "       1.27986940e+00, 1.32598714e+00, 1.37292113e+00, 1.42067136e+00,\n",
              "       1.46923783e+00, 1.51862055e+00, 1.56881951e+00, 1.61983471e+00,\n",
              "       1.67166616e+00, 1.72431385e+00, 1.77777778e+00, 1.83205795e+00,\n",
              "       1.88715437e+00, 1.94306703e+00, 1.99979594e+00, 2.05734109e+00,\n",
              "       2.11570248e+00, 2.17488011e+00, 2.23487399e+00, 2.29568411e+00,\n",
              "       2.35731048e+00, 2.41975309e+00, 2.48301194e+00, 2.54708703e+00,\n",
              "       2.61197837e+00, 2.67768595e+00, 2.74420977e+00, 2.81154984e+00,\n",
              "       2.87970615e+00, 2.94867871e+00, 3.01846750e+00, 3.08907254e+00,\n",
              "       3.16049383e+00, 3.23273135e+00, 3.30578512e+00, 3.37965514e+00,\n",
              "       3.45434139e+00, 3.52984389e+00, 3.60616264e+00, 3.68329762e+00,\n",
              "       3.76124885e+00, 3.84001632e+00, 3.91960004e+00, 4.00000000e+00])"
            ]
          },
          "metadata": {},
          "execution_count": 90
        }
      ]
    },
    {
      "cell_type": "code",
      "source": [
        "y = 3* x + 5 #y=mx+b #create a new variable by using mathematical equations with an existing varaible"
      ],
      "metadata": {
        "id": "T5ijxjIO40oz"
      },
      "execution_count": null,
      "outputs": []
    },
    {
      "cell_type": "code",
      "source": [
        "x"
      ],
      "metadata": {
        "colab": {
          "base_uri": "https://localhost:8080/"
        },
        "id": "MzsdJRr14-fa",
        "outputId": "23725db7-2c92-44a4-f422-ff2448240ab8"
      },
      "execution_count": null,
      "outputs": [
        {
          "output_type": "execute_result",
          "data": {
            "text/plain": [
              "array([0, 1, 2, 3, 4, 5, 6, 7, 8, 9])"
            ]
          },
          "metadata": {},
          "execution_count": 51
        }
      ]
    },
    {
      "cell_type": "code",
      "source": [
        "y"
      ],
      "metadata": {
        "colab": {
          "base_uri": "https://localhost:8080/"
        },
        "id": "d5_MKdy-4_Rq",
        "outputId": "e22ab537-05e7-4bf9-8433-7844f81de37c"
      },
      "execution_count": null,
      "outputs": [
        {
          "output_type": "execute_result",
          "data": {
            "text/plain": [
              "array([ 5,  8, 11, 14, 17, 20, 23, 26, 29, 32])"
            ]
          },
          "metadata": {},
          "execution_count": 52
        }
      ]
    },
    {
      "cell_type": "code",
      "source": [
        "plt.plot(x,y) #make an xy graph #basic graphs are solid blue lines"
      ],
      "metadata": {
        "colab": {
          "base_uri": "https://localhost:8080/",
          "height": 282
        },
        "id": "j8IUV1fF4_qK",
        "outputId": "7baaebf6-4cbe-4983-ad4b-bfc93211cde8"
      },
      "execution_count": null,
      "outputs": [
        {
          "output_type": "execute_result",
          "data": {
            "text/plain": [
              "[<matplotlib.lines.Line2D at 0x7f5ead302910>]"
            ]
          },
          "metadata": {},
          "execution_count": 94
        },
        {
          "output_type": "display_data",
          "data": {
            "text/plain": [
              "<Figure size 432x288 with 1 Axes>"
            ],
            "image/png": "[encoded data removed]"
          },
          "metadata": {
            "needs_background": "light"
          }
        }
      ]
    },
    {
      "cell_type": "code",
      "source": [
        "plt.plot(x,y,'.') #make the graph show sloped points instead of a solid line"
      ],
      "metadata": {
        "colab": {
          "base_uri": "https://localhost:8080/",
          "height": 282
        },
        "id": "J1Zy8v5C5MJk",
        "outputId": "09fd6659-a1ef-406c-9bf8-f647867b215e"
      },
      "execution_count": null,
      "outputs": [
        {
          "output_type": "execute_result",
          "data": {
            "text/plain": [
              "[<matplotlib.lines.Line2D at 0x7f5ead267dd0>]"
            ]
          },
          "metadata": {},
          "execution_count": 95
        },
        {
          "output_type": "display_data",
          "data": {
            "text/plain": [
              "<Figure size 432x288 with 1 Axes>"
            ],
            "image/png": "[encoded data removed]"
          },
          "metadata": {
            "needs_background": "light"
          }
        }
      ]
    },
    {
      "cell_type": "code",
      "source": [
        "plt.plot(x,y,'r.') #change the color of the points"
      ],
      "metadata": {
        "colab": {
          "base_uri": "https://localhost:8080/",
          "height": 282
        },
        "id": "nvQYk1QG5i70",
        "outputId": "a8c70fb0-f349-4f3f-9828-68d1d43c72f7"
      },
      "execution_count": null,
      "outputs": [
        {
          "output_type": "execute_result",
          "data": {
            "text/plain": [
              "[<matplotlib.lines.Line2D at 0x7f5ead1f92d0>]"
            ]
          },
          "metadata": {},
          "execution_count": 96
        },
        {
          "output_type": "display_data",
          "data": {
            "text/plain": [
              "<Figure size 432x288 with 1 Axes>"
            ],
            "image/png": "[encoded data removed]"
          },
          "metadata": {
            "needs_background": "light"
          }
        }
      ]
    },
    {
      "cell_type": "code",
      "source": [
        "plt.plot(x,y,'r--') #change the shape of the points"
      ],
      "metadata": {
        "colab": {
          "base_uri": "https://localhost:8080/",
          "height": 282
        },
        "id": "T-B1efMB6MwV",
        "outputId": "bdcf1ac4-a43f-48e4-873d-8900d15dcfed"
      },
      "execution_count": null,
      "outputs": [
        {
          "output_type": "execute_result",
          "data": {
            "text/plain": [
              "[<matplotlib.lines.Line2D at 0x7f5ead2c4ed0>]"
            ]
          },
          "metadata": {},
          "execution_count": 97
        },
        {
          "output_type": "display_data",
          "data": {
            "text/plain": [
              "<Figure size 432x288 with 1 Axes>"
            ],
            "image/png": "[encoded data removed]"
          },
          "metadata": {
            "needs_background": "light"
          }
        }
      ]
    },
    {
      "cell_type": "code",
      "source": [
        "plt.plot(x,y,marker='o',\n",
        "          linestyle = 'None',\n",
        "          markerfacecolor='#85D530') #change the overall design of a graph"
      ],
      "metadata": {
        "colab": {
          "base_uri": "https://localhost:8080/",
          "height": 282
        },
        "id": "gczY2Q3R6QRE",
        "outputId": "93fd10db-3b6a-45f1-b434-b32a2a31b47c"
      },
      "execution_count": null,
      "outputs": [
        {
          "output_type": "execute_result",
          "data": {
            "text/plain": [
              "[<matplotlib.lines.Line2D at 0x7f5eadfcdd10>]"
            ]
          },
          "metadata": {},
          "execution_count": 98
        },
        {
          "output_type": "display_data",
          "data": {
            "text/plain": [
              "<Figure size 432x288 with 1 Axes>"
            ],
            "image/png": "[encoded data removed]"
          },
          "metadata": {
            "needs_background": "light"
          }
        }
      ]
    },
    {
      "cell_type": "code",
      "source": [
        "x=np.linspace(0,10,100) #an array from 0 to 10 with 100 spaces in bewteen"
      ],
      "metadata": {
        "id": "y69yvzDO8SpL"
      },
      "execution_count": null,
      "outputs": []
    },
    {
      "cell_type": "code",
      "source": [
        "x"
      ],
      "metadata": {
        "colab": {
          "base_uri": "https://localhost:8080/"
        },
        "id": "qKJg-mIQ9mTH",
        "outputId": "1075c711-accb-4a9b-e961-9cf4c695afe0"
      },
      "execution_count": null,
      "outputs": [
        {
          "output_type": "execute_result",
          "data": {
            "text/plain": [
              "array([ 0.        ,  0.1010101 ,  0.2020202 ,  0.3030303 ,  0.4040404 ,\n",
              "        0.50505051,  0.60606061,  0.70707071,  0.80808081,  0.90909091,\n",
              "        1.01010101,  1.11111111,  1.21212121,  1.31313131,  1.41414141,\n",
              "        1.51515152,  1.61616162,  1.71717172,  1.81818182,  1.91919192,\n",
              "        2.02020202,  2.12121212,  2.22222222,  2.32323232,  2.42424242,\n",
              "        2.52525253,  2.62626263,  2.72727273,  2.82828283,  2.92929293,\n",
              "        3.03030303,  3.13131313,  3.23232323,  3.33333333,  3.43434343,\n",
              "        3.53535354,  3.63636364,  3.73737374,  3.83838384,  3.93939394,\n",
              "        4.04040404,  4.14141414,  4.24242424,  4.34343434,  4.44444444,\n",
              "        4.54545455,  4.64646465,  4.74747475,  4.84848485,  4.94949495,\n",
              "        5.05050505,  5.15151515,  5.25252525,  5.35353535,  5.45454545,\n",
              "        5.55555556,  5.65656566,  5.75757576,  5.85858586,  5.95959596,\n",
              "        6.06060606,  6.16161616,  6.26262626,  6.36363636,  6.46464646,\n",
              "        6.56565657,  6.66666667,  6.76767677,  6.86868687,  6.96969697,\n",
              "        7.07070707,  7.17171717,  7.27272727,  7.37373737,  7.47474747,\n",
              "        7.57575758,  7.67676768,  7.77777778,  7.87878788,  7.97979798,\n",
              "        8.08080808,  8.18181818,  8.28282828,  8.38383838,  8.48484848,\n",
              "        8.58585859,  8.68686869,  8.78787879,  8.88888889,  8.98989899,\n",
              "        9.09090909,  9.19191919,  9.29292929,  9.39393939,  9.49494949,\n",
              "        9.5959596 ,  9.6969697 ,  9.7979798 ,  9.8989899 , 10.        ])"
            ]
          },
          "metadata": {},
          "execution_count": 59
        }
      ]
    },
    {
      "cell_type": "code",
      "source": [
        "x=np.linspace(0,5,10) #an array from 0 to 5 with 10 spaces in bewteen"
      ],
      "metadata": {
        "id": "b_mRgja99qUs"
      },
      "execution_count": null,
      "outputs": []
    },
    {
      "cell_type": "code",
      "source": [
        "x"
      ],
      "metadata": {
        "colab": {
          "base_uri": "https://localhost:8080/"
        },
        "id": "RKAGEwYY9_Qe",
        "outputId": "dcee44b6-aaab-447d-be9c-e4101ffade9c"
      },
      "execution_count": null,
      "outputs": [
        {
          "output_type": "execute_result",
          "data": {
            "text/plain": [
              "array([0.        , 0.55555556, 1.11111111, 1.66666667, 2.22222222,\n",
              "       2.77777778, 3.33333333, 3.88888889, 4.44444444, 5.        ])"
            ]
          },
          "metadata": {},
          "execution_count": 61
        }
      ]
    },
    {
      "cell_type": "code",
      "source": [
        "y=x**2"
      ],
      "metadata": {
        "id": "qYjp7m099_6d"
      },
      "execution_count": null,
      "outputs": []
    },
    {
      "cell_type": "code",
      "source": [
        "x"
      ],
      "metadata": {
        "colab": {
          "base_uri": "https://localhost:8080/"
        },
        "id": "PnrTK3xI-HRO",
        "outputId": "978cfa09-4b58-4612-ad1f-5259b29038a5"
      },
      "execution_count": null,
      "outputs": [
        {
          "output_type": "execute_result",
          "data": {
            "text/plain": [
              "array([0.        , 0.55555556, 1.11111111, 1.66666667, 2.22222222,\n",
              "       2.77777778, 3.33333333, 3.88888889, 4.44444444, 5.        ])"
            ]
          },
          "metadata": {},
          "execution_count": 64
        }
      ]
    },
    {
      "cell_type": "code",
      "source": [
        "y"
      ],
      "metadata": {
        "colab": {
          "base_uri": "https://localhost:8080/"
        },
        "id": "WtVgBd_y-cTe",
        "outputId": "3551a662-5975-4266-abd6-09c497fd90c5"
      },
      "execution_count": null,
      "outputs": [
        {
          "output_type": "execute_result",
          "data": {
            "text/plain": [
              "array([ 0.        ,  0.30864198,  1.2345679 ,  2.77777778,  4.9382716 ,\n",
              "        7.71604938, 11.11111111, 15.12345679, 19.75308642, 25.        ])"
            ]
          },
          "metadata": {},
          "execution_count": 65
        }
      ]
    },
    {
      "cell_type": "code",
      "source": [
        "plt.plot(x,y,marker='o', linestyle = 'None', markerfacecolor='#85D530')\n",
        "plt.title(\"My First Graph\"); #put the semicolon at the end to remove extra text on top of graph title"
      ],
      "metadata": {
        "colab": {
          "base_uri": "https://localhost:8080/",
          "height": 281
        },
        "id": "8ProqU0A-crv",
        "outputId": "8b12d722-b92c-4fa0-a5b4-74366e751993"
      },
      "execution_count": null,
      "outputs": [
        {
          "output_type": "display_data",
          "data": {
            "text/plain": [
              "<Figure size 432x288 with 1 Axes>"
            ],
            "image/png": "[encoded data removed]"
          },
          "metadata": {
            "needs_background": "light"
          }
        }
      ]
    },
    {
      "cell_type": "code",
      "source": [
        "plt.plot(x,y,marker='o', linestyle = 'None', markerfacecolor='#85D530')\n",
        "plt.title(\"My First Graph\");\n",
        "plt.xlabel(\"X axis label goes here\")\n",
        "plt.ylabel(\"Y axis label goes here\"); #add a title to your graph #add axis labels"
      ],
      "metadata": {
        "colab": {
          "base_uri": "https://localhost:8080/",
          "height": 295
        },
        "id": "Y4Bjgiaa-8tf",
        "outputId": "dd75dd71-a79a-4d24-f124-86734f14b174"
      },
      "execution_count": null,
      "outputs": [
        {
          "output_type": "display_data",
          "data": {
            "text/plain": [
              "<Figure size 432x288 with 1 Axes>"
            ],
            "image/png": "[encoded data removed]"
          },
          "metadata": {
            "needs_background": "light"
          }
        }
      ]
    },
    {
      "cell_type": "code",
      "source": [
        "plt.plot(x,y,marker='o', \n",
        "         linestyle = 'None', \n",
        "         markerfacecolor='#85D530',\n",
        "         label = \"Graph of x squared\")\n",
        "plt.title(\"My First Graph\");\n",
        "plt.xlabel(\"X axis label goes here\")\n",
        "plt.ylabel(\"Y axis label goes here\")\n",
        "plt.legend(); #add and label a legend for the graph"
      ],
      "metadata": {
        "colab": {
          "base_uri": "https://localhost:8080/",
          "height": 295
        },
        "id": "SCOgaWO3AM8z",
        "outputId": "add43a24-ae75-4683-bddf-4b41005df566"
      },
      "execution_count": null,
      "outputs": [
        {
          "output_type": "display_data",
          "data": {
            "text/plain": [
              "<Figure size 432x288 with 1 Axes>"
            ],
            "image/png": "[encoded data removed]"
          },
          "metadata": {
            "needs_background": "light"
          }
        }
      ]
    },
    {
      "cell_type": "code",
      "source": [
        "x=np.linspace(0,2,100)\n",
        "plt.plot(x,x, label=\"linear\")\n",
        "plt.plot(x,x**2, label=\"squared\")\n",
        "plt.plot(x,x**3, label=\"cubed\")\n",
        "plt.legend(); #make a graph with multiple lines"
      ],
      "metadata": {
        "colab": {
          "base_uri": "https://localhost:8080/",
          "height": 265
        },
        "id": "eVLFhHDxBP9j",
        "outputId": "329e1c14-f1e0-4765-c5a5-0d60895b598c"
      },
      "execution_count": null,
      "outputs": [
        {
          "output_type": "display_data",
          "data": {
            "text/plain": [
              "<Figure size 432x288 with 1 Axes>"
            ],
            "image/png": "[encoded data removed]"
          },
          "metadata": {
            "needs_background": "light"
          }
        }
      ]
    },
    {
      "cell_type": "code",
      "source": [
        "x=np.linspace(0,2,100)\n",
        "plt.plot(x,x, 'r--', label=\"linear\")\n",
        "plt.plot(x,x**2, 'bs', label=\"squared\")\n",
        "plt.plot(x,x**3, 'g^', label='cubed')\n",
        "plt.legend() #g^ means green triangle, bs means blue square, and r-- means red dash"
      ],
      "metadata": {
        "colab": {
          "base_uri": "https://localhost:8080/",
          "height": 282
        },
        "id": "O5euYhIACf0e",
        "outputId": "9175e23c-7160-4617-c3fc-080ae94576f0"
      },
      "execution_count": null,
      "outputs": [
        {
          "output_type": "execute_result",
          "data": {
            "text/plain": [
              "<matplotlib.legend.Legend at 0x7f5eadf79b10>"
            ]
          },
          "metadata": {},
          "execution_count": 71
        },
        {
          "output_type": "display_data",
          "data": {
            "text/plain": [
              "<Figure size 432x288 with 1 Axes>"
            ],
            "image/png": "[encoded data removed]"
          },
          "metadata": {
            "needs_background": "light"
          }
        }
      ]
    },
    {
      "cell_type": "code",
      "source": [
        "names = ['cat','dog','bird'] #use brackets to list items in a variable value"
      ],
      "metadata": {
        "id": "BUIvBLCVDak4"
      },
      "execution_count": null,
      "outputs": []
    },
    {
      "cell_type": "code",
      "source": [
        "names"
      ],
      "metadata": {
        "colab": {
          "base_uri": "https://localhost:8080/"
        },
        "id": "dsTb56COExEq",
        "outputId": "bd826ed2-0b8f-40b4-8426-91aa23bfa39f"
      },
      "execution_count": null,
      "outputs": [
        {
          "output_type": "execute_result",
          "data": {
            "text/plain": [
              "['cat', 'dog', 'bird']"
            ]
          },
          "metadata": {},
          "execution_count": 73
        }
      ]
    },
    {
      "cell_type": "code",
      "source": [
        "names[0]"
      ],
      "metadata": {
        "colab": {
          "base_uri": "https://localhost:8080/",
          "height": 35
        },
        "id": "bTZckcQHEyUr",
        "outputId": "c817aa0b-1812-413b-f3ba-e2c293a09c4b"
      },
      "execution_count": null,
      "outputs": [
        {
          "output_type": "execute_result",
          "data": {
            "text/plain": [
              "'cat'"
            ],
            "application/vnd.google.colaboratory.intrinsic+json": {
              "type": "string"
            }
          },
          "metadata": {},
          "execution_count": 74
        }
      ]
    },
    {
      "cell_type": "code",
      "source": [
        "names[1]"
      ],
      "metadata": {
        "colab": {
          "base_uri": "https://localhost:8080/",
          "height": 35
        },
        "id": "kwsUQh4wE0TL",
        "outputId": "9ecc6670-4938-4480-a40c-17d284d1c96d"
      },
      "execution_count": null,
      "outputs": [
        {
          "output_type": "execute_result",
          "data": {
            "text/plain": [
              "'dog'"
            ],
            "application/vnd.google.colaboratory.intrinsic+json": {
              "type": "string"
            }
          },
          "metadata": {},
          "execution_count": 75
        }
      ]
    },
    {
      "cell_type": "code",
      "source": [
        "names[2]"
      ],
      "metadata": {
        "colab": {
          "base_uri": "https://localhost:8080/",
          "height": 35
        },
        "id": "Ew33TbklE2Z8",
        "outputId": "b43e13c4-179a-4bb7-cf0d-c7cb84111b22"
      },
      "execution_count": null,
      "outputs": [
        {
          "output_type": "execute_result",
          "data": {
            "text/plain": [
              "'bird'"
            ],
            "application/vnd.google.colaboratory.intrinsic+json": {
              "type": "string"
            }
          },
          "metadata": {},
          "execution_count": 76
        }
      ]
    },
    {
      "cell_type": "code",
      "source": [
        "names[3] #\"value 3\" is actually the 4th value because python starts counting from 0"
      ],
      "metadata": {
        "colab": {
          "base_uri": "https://localhost:8080/",
          "height": 165
        },
        "id": "hxMm34-SE599",
        "outputId": "d761e590-85b4-4846-8c1d-74aae5555ebe"
      },
      "execution_count": null,
      "outputs": [
        {
          "output_type": "error",
          "ename": "IndexError",
          "evalue": "ignored",
          "traceback": [
            "\u001b[0;31m---------------------------------------------------------------------------\u001b[0m",
            "\u001b[0;31mIndexError\u001b[0m                                Traceback (most recent call last)",
            "\u001b[0;32m<ipython-input-77-038581b591bb>\u001b[0m in \u001b[0;36m<module>\u001b[0;34m\u001b[0m\n\u001b[0;32m----> 1\u001b[0;31m \u001b[0mnames\u001b[0m\u001b[0;34m[\u001b[0m\u001b[0;36m3\u001b[0m\u001b[0;34m]\u001b[0m\u001b[0;34m\u001b[0m\u001b[0;34m\u001b[0m\u001b[0m\n\u001b[0m",
            "\u001b[0;31mIndexError\u001b[0m: list index out of range"
          ]
        }
      ]
    },
    {
      "cell_type": "code",
      "source": [
        "values=[15,18,6]"
      ],
      "metadata": {
        "id": "OL2FhHgAE9z9"
      },
      "execution_count": null,
      "outputs": []
    },
    {
      "cell_type": "code",
      "source": [
        "values"
      ],
      "metadata": {
        "colab": {
          "base_uri": "https://localhost:8080/"
        },
        "id": "mCG6H1-tFB97",
        "outputId": "05e8401a-f022-4181-d556-cedfc302f625"
      },
      "execution_count": null,
      "outputs": [
        {
          "output_type": "execute_result",
          "data": {
            "text/plain": [
              "[15, 18, 6]"
            ]
          },
          "metadata": {},
          "execution_count": 107
        }
      ]
    },
    {
      "cell_type": "code",
      "source": [
        "plt.figure(1,figsize=(10,10)) #this is the size of the graph\n",
        "plt.subplot(1,3,1)\n",
        "plt.bar(names, values) #one row, one column, and it is the first graph\n",
        "\n",
        "plt.subplot(1,3,2)\n",
        "plt.scatter(names,values) #one row, one column, and it is the second graph\n",
        "\n",
        "plt.subplot(1,3,3)\n",
        "plt.plot(names,values); #one row, one column, and it is the third graph\n"
      ],
      "metadata": {
        "colab": {
          "base_uri": "https://localhost:8080/",
          "height": 592
        },
        "id": "pl4q8YqOFC67",
        "outputId": "f47d212d-a65c-4874-c491-1953c4a8c4d6"
      },
      "execution_count": null,
      "outputs": [
        {
          "output_type": "display_data",
          "data": {
            "text/plain": [
              "<Figure size 720x720 with 3 Axes>"
            ],
            "image/png": "[encoded data removed]"
          },
          "metadata": {
            "needs_background": "light"
          }
        }
      ]
    },
    {
      "cell_type": "code",
      "source": [
        "plt.figure(1,figsize=(3,3))\n",
        "plt.subplot(2,2,1)\n",
        "plt.bar(names, values)\n",
        "\n",
        "plt.subplot(2,2,2)\n",
        "plt.scatter(names,values)\n",
        "\n",
        "plt.subplot(2,2,3)\n",
        "plt.plot(names,values)\n",
        "\n",
        "plt.subplot(2,2,4)\n",
        "plt.plot(names,values);\n"
      ],
      "metadata": {
        "colab": {
          "base_uri": "https://localhost:8080/",
          "height": 211
        },
        "id": "8a_o9wBLFc6c",
        "outputId": "de7f6321-9596-43da-9709-b4679cd63c28"
      },
      "execution_count": null,
      "outputs": [
        {
          "output_type": "display_data",
          "data": {
            "text/plain": [
              "<Figure size 216x216 with 4 Axes>"
            ],
            "image/png": "[encoded data removed]"
          },
          "metadata": {
            "needs_background": "light"
          }
        }
      ]
    },
    {
      "cell_type": "markdown",
      "source": [
        "# August 29 2022 Lecture: Math Typesetting"
      ],
      "metadata": {
        "id": "YQaRA41BZPEi"
      }
    },
    {
      "cell_type": "markdown",
      "source": [
        "<img src = \"https://www.applesfromny.com/wp-content/uploads/2020/06/SnapdragonNEW.png\" width = 400 >"
      ],
      "metadata": {
        "id": "fT3aspw-ZlCy"
      }
    },
    {
      "cell_type": "code",
      "source": [
        "#html code goes in TEXT cells. Insert images by typing \"img src\". You can adjust different attributes such as dimensions."
      ],
      "metadata": {
        "id": "9-N_VW7jp_uu"
      },
      "execution_count": null,
      "outputs": []
    },
    {
      "cell_type": "markdown",
      "source": [
        "$x$"
      ],
      "metadata": {
        "id": "sBoYnHPLbK6G"
      }
    },
    {
      "cell_type": "code",
      "source": [
        "#putting text in between dollar signs gives a different font"
      ],
      "metadata": {
        "id": "_wcfRDRzcmDE"
      },
      "execution_count": null,
      "outputs": []
    },
    {
      "cell_type": "markdown",
      "source": [
        "$y=mx+b$"
      ],
      "metadata": {
        "id": "vGlis4XcbXrL"
      }
    },
    {
      "cell_type": "markdown",
      "source": [
        "$\\frac{a}{b}$ "
      ],
      "metadata": {
        "id": "dRLYG2vdbcGu"
      }
    },
    {
      "cell_type": "code",
      "source": [
        "#fraction formula"
      ],
      "metadata": {
        "id": "_49jtnB7c0YO"
      },
      "execution_count": null,
      "outputs": []
    },
    {
      "cell_type": "markdown",
      "source": [
        "$a_b$"
      ],
      "metadata": {
        "id": "eyvLJrLaboKA"
      }
    },
    {
      "cell_type": "code",
      "source": [
        "#subscript"
      ],
      "metadata": {
        "id": "vTFudByndPR8"
      },
      "execution_count": null,
      "outputs": []
    },
    {
      "cell_type": "markdown",
      "source": [
        "$a^b$"
      ],
      "metadata": {
        "id": "MrL43G8wdSGD"
      }
    },
    {
      "cell_type": "code",
      "source": [
        "#exponent formula"
      ],
      "metadata": {
        "id": "8EapNVqrqhP6"
      },
      "execution_count": null,
      "outputs": []
    },
    {
      "cell_type": "markdown",
      "source": [
        "$a^{12345}$"
      ],
      "metadata": {
        "id": "m0FdkwsXqpWd"
      }
    },
    {
      "cell_type": "code",
      "source": [
        "#putting more than one character in the exponent"
      ],
      "metadata": {
        "id": "MlTNiHADqtyA"
      },
      "execution_count": null,
      "outputs": []
    },
    {
      "cell_type": "markdown",
      "source": [
        "$a_{bc}$"
      ],
      "metadata": {
        "id": "JG9yEc_BqyCx"
      }
    },
    {
      "cell_type": "code",
      "source": [
        "#putting more than one character in the subscript"
      ],
      "metadata": {
        "id": "r50qacWsq1An"
      },
      "execution_count": null,
      "outputs": []
    },
    {
      "cell_type": "markdown",
      "source": [
        "$M_{1,2}$"
      ],
      "metadata": {
        "id": "wgyLH7Htq7XE"
      }
    },
    {
      "cell_type": "markdown",
      "source": [
        "$f(x) = \\frac{1}{\\sigma\\sqrt{2\\pi}}e^    {-\\frac{1}{2}(\\frac{x-\\mu}{\\sigma})^2}$"
      ],
      "metadata": {
        "id": "y7fmfJR-rCEX"
      }
    },
    {
      "cell_type": "code",
      "source": [
        "#normal distributions formula"
      ],
      "metadata": {
        "id": "Upwdw-9MrFsQ"
      },
      "execution_count": null,
      "outputs": []
    }
  ]
}