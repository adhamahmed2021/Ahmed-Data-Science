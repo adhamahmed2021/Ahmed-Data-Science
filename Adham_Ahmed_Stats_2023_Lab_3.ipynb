{
  "nbformat": 4,
  "nbformat_minor": 0,
  "metadata": {
    "colab": {
      "provenance": [],
      "collapsed_sections": [
        "6o5zYVOU8ahE",
        "bJfwk8tnVV2E"
      ],
      "include_colab_link": true
    },
    "kernelspec": {
      "name": "python3",
      "display_name": "Python 3"
    },
    "language_info": {
      "name": "python"
    }
  },
  "cells": [
    {
      "cell_type": "markdown",
      "metadata": {
        "id": "view-in-github",
        "colab_type": "text"
      },
      "source": [
        "<a href=\"https://colab.research.google.com/github/adhamahmed2021/Ahmed-Data-Science/blob/main/Adham_Ahmed_Stats_2023_Lab_3.ipynb\" target=\"_parent\"><img src=\"https://colab.research.google.com/assets/colab-badge.svg\" alt=\"Open In Colab\"/></a>"
      ]
    },
    {
      "cell_type": "markdown",
      "source": [
        "# Stats Notebook Lab #3"
      ],
      "metadata": {
        "id": "GEwHyK5ve9lG"
      }
    },
    {
      "cell_type": "markdown",
      "source": [
        "### Loops"
      ],
      "metadata": {
        "id": "w8jTQA6itPS_"
      }
    },
    {
      "cell_type": "code",
      "source": [
        "for i in range(100): #ask python to print the first 100 numbers\n",
        "    print(i)"
      ],
      "metadata": {
        "id": "L7a5MPStqZW9",
        "colab": {
          "base_uri": "https://localhost:8080/"
        },
        "outputId": "93b7be0a-4234-4fd4-d5f5-edf3217a16f0"
      },
      "execution_count": 206,
      "outputs": [
        {
          "output_type": "stream",
          "name": "stdout",
          "text": [
            "0\n",
            "1\n",
            "2\n",
            "3\n",
            "4\n",
            "5\n",
            "6\n",
            "7\n",
            "8\n",
            "9\n",
            "10\n",
            "11\n",
            "12\n",
            "13\n",
            "14\n",
            "15\n",
            "16\n",
            "17\n",
            "18\n",
            "19\n",
            "20\n",
            "21\n",
            "22\n",
            "23\n",
            "24\n",
            "25\n",
            "26\n",
            "27\n",
            "28\n",
            "29\n",
            "30\n",
            "31\n",
            "32\n",
            "33\n",
            "34\n",
            "35\n",
            "36\n",
            "37\n",
            "38\n",
            "39\n",
            "40\n",
            "41\n",
            "42\n",
            "43\n",
            "44\n",
            "45\n",
            "46\n",
            "47\n",
            "48\n",
            "49\n",
            "50\n",
            "51\n",
            "52\n",
            "53\n",
            "54\n",
            "55\n",
            "56\n",
            "57\n",
            "58\n",
            "59\n",
            "60\n",
            "61\n",
            "62\n",
            "63\n",
            "64\n",
            "65\n",
            "66\n",
            "67\n",
            "68\n",
            "69\n",
            "70\n",
            "71\n",
            "72\n",
            "73\n",
            "74\n",
            "75\n",
            "76\n",
            "77\n",
            "78\n",
            "79\n",
            "80\n",
            "81\n",
            "82\n",
            "83\n",
            "84\n",
            "85\n",
            "86\n",
            "87\n",
            "88\n",
            "89\n",
            "90\n",
            "91\n",
            "92\n",
            "93\n",
            "94\n",
            "95\n",
            "96\n",
            "97\n",
            "98\n",
            "99\n"
          ]
        }
      ]
    },
    {
      "cell_type": "code",
      "source": [
        "for i in range(5,8):   #ask python to print every number from 5-8 (Question: how come it prints 5 but not 8?)\n",
        "\n",
        "    print(i)"
      ],
      "metadata": {
        "colab": {
          "base_uri": "https://localhost:8080/"
        },
        "id": "GiqhhjfLqZZm",
        "outputId": "3cf3aa53-dff9-4ab4-d5ef-4bcd2893f255"
      },
      "execution_count": 207,
      "outputs": [
        {
          "output_type": "stream",
          "name": "stdout",
          "text": [
            "5\n",
            "6\n",
            "7\n"
          ]
        }
      ]
    },
    {
      "cell_type": "code",
      "source": [
        "for i in range(3):\n",
        "    print( \"Test Number: \" , i )      #ask python to print the first 3 numbers with certain text in front of it"
      ],
      "metadata": {
        "colab": {
          "base_uri": "https://localhost:8080/"
        },
        "id": "ezhAeX6pqZb0",
        "outputId": "6366d3e9-243b-4e96-9466-1ad61f1ba4f5"
      },
      "execution_count": 208,
      "outputs": [
        {
          "output_type": "stream",
          "name": "stdout",
          "text": [
            "Test Number:  0\n",
            "Test Number:  1\n",
            "Test Number:  2\n"
          ]
        }
      ]
    },
    {
      "cell_type": "markdown",
      "source": [
        "### Functions"
      ],
      "metadata": {
        "id": "A6PCCPY2vkHs"
      }
    },
    {
      "cell_type": "code",
      "source": [
        "def square(x):    #square(a number, x) is defined by the code for squaring a number\n",
        "    return x**2"
      ],
      "metadata": {
        "id": "P4rxbIKhthov"
      },
      "execution_count": 209,
      "outputs": []
    },
    {
      "cell_type": "code",
      "source": [
        "square(5)   #demonstrates function"
      ],
      "metadata": {
        "id": "tapdcxMhthq5",
        "colab": {
          "base_uri": "https://localhost:8080/"
        },
        "outputId": "7814242b-e9b5-4ff9-927f-ff2fab74a4cb"
      },
      "execution_count": 210,
      "outputs": [
        {
          "output_type": "execute_result",
          "data": {
            "text/plain": [
              "25"
            ]
          },
          "metadata": {},
          "execution_count": 210
        }
      ]
    },
    {
      "cell_type": "code",
      "source": [
        "square(square(2)) #squares 2 (= 4) then squares 4"
      ],
      "metadata": {
        "colab": {
          "base_uri": "https://localhost:8080/"
        },
        "id": "ggut_uVy_rSf",
        "outputId": "87bcec3b-2a0e-40b5-c4da-91a446926286"
      },
      "execution_count": 211,
      "outputs": [
        {
          "output_type": "execute_result",
          "data": {
            "text/plain": [
              "16"
            ]
          },
          "metadata": {},
          "execution_count": 211
        }
      ]
    },
    {
      "cell_type": "code",
      "source": [
        "square(square(square(2)))  #squares 2 (= 4) then squares 4 (= 16) then squares 16\n"
      ],
      "metadata": {
        "colab": {
          "base_uri": "https://localhost:8080/"
        },
        "id": "95jAfJVR_94h",
        "outputId": "ea3a79e7-6cae-40b0-f6b5-123789ee8a21"
      },
      "execution_count": 212,
      "outputs": [
        {
          "output_type": "execute_result",
          "data": {
            "text/plain": [
              "256"
            ]
          },
          "metadata": {},
          "execution_count": 212
        }
      ]
    },
    {
      "cell_type": "code",
      "source": [
        "square(123456)"
      ],
      "metadata": {
        "colab": {
          "base_uri": "https://localhost:8080/"
        },
        "id": "8Ni3UM4r_sav",
        "outputId": "84c3769e-3b3a-4be3-ccfa-c8d84913d55a"
      },
      "execution_count": 213,
      "outputs": [
        {
          "output_type": "execute_result",
          "data": {
            "text/plain": [
              "15241383936"
            ]
          },
          "metadata": {},
          "execution_count": 213
        }
      ]
    },
    {
      "cell_type": "code",
      "source": [
        "square(square(5))  #squares 5 (= 25) then squares 25"
      ],
      "metadata": {
        "colab": {
          "base_uri": "https://localhost:8080/"
        },
        "id": "zCJeQUED_vO4",
        "outputId": "78fab383-dbb2-4792-b269-0d040e225a25"
      },
      "execution_count": 214,
      "outputs": [
        {
          "output_type": "execute_result",
          "data": {
            "text/plain": [
              "625"
            ]
          },
          "metadata": {},
          "execution_count": 214
        }
      ]
    },
    {
      "cell_type": "code",
      "source": [
        "def add_two(x):      #function to add 2 to a number,x\n",
        "    return x+2"
      ],
      "metadata": {
        "id": "Ifx93-xithtM"
      },
      "execution_count": 215,
      "outputs": []
    },
    {
      "cell_type": "code",
      "source": [
        "add_two(5)     #demonstrates function"
      ],
      "metadata": {
        "colab": {
          "base_uri": "https://localhost:8080/"
        },
        "id": "YOzLVIluthvX",
        "outputId": "91d0f4cf-1e8c-41a9-d4eb-5240a2752dff"
      },
      "execution_count": 216,
      "outputs": [
        {
          "output_type": "execute_result",
          "data": {
            "text/plain": [
              "7"
            ]
          },
          "metadata": {},
          "execution_count": 216
        }
      ]
    },
    {
      "cell_type": "code",
      "source": [
        "square(add_two(5))   #uses both functions to add 2 to 5 and square that number ((5+2)^2)"
      ],
      "metadata": {
        "colab": {
          "base_uri": "https://localhost:8080/"
        },
        "id": "Rbj7x0pYteTE",
        "outputId": "dc344465-468f-4761-850b-2f4955fc7518"
      },
      "execution_count": 217,
      "outputs": [
        {
          "output_type": "execute_result",
          "data": {
            "text/plain": [
              "49"
            ]
          },
          "metadata": {},
          "execution_count": 217
        }
      ]
    },
    {
      "cell_type": "markdown",
      "source": [
        "### Logical Branching"
      ],
      "metadata": {
        "id": "xApDPXnTv2xj"
      }
    },
    {
      "cell_type": "code",
      "source": [
        "choice = \"apple\" #one equal is an assignment operator"
      ],
      "metadata": {
        "id": "e0M7Azbth_u3"
      },
      "execution_count": 218,
      "outputs": []
    },
    {
      "cell_type": "code",
      "source": [
        "if choice == \"apple\":  #two equal signs means a test of an operation or function\n",
        "\n",
        "    print(\"You choose apples.\")\n",
        "\n",
        "else:                      #tells python that if it doesn't show one phrase, show the other\n",
        "    \n",
        "    print(\"You did not choose apples.\")"
      ],
      "metadata": {
        "colab": {
          "base_uri": "https://localhost:8080/"
        },
        "id": "9VoLDXjgwSSx",
        "outputId": "689aa089-2f80-4608-f7ea-9ae23d4d6ebc"
      },
      "execution_count": 219,
      "outputs": [
        {
          "output_type": "stream",
          "name": "stdout",
          "text": [
            "You choose apples.\n"
          ]
        }
      ]
    },
    {
      "cell_type": "code",
      "source": [
        "choice = \"orange\""
      ],
      "metadata": {
        "id": "YueQEzQfwUwM"
      },
      "execution_count": 220,
      "outputs": []
    },
    {
      "cell_type": "code",
      "source": [
        "if choice == \"apple\":\n",
        "\n",
        "    print(\"You choose apples.\")\n",
        "\n",
        "else:\n",
        "    \n",
        "    print(\"You did not choose apples.\")"
      ],
      "metadata": {
        "colab": {
          "base_uri": "https://localhost:8080/"
        },
        "outputId": "53ac857b-8365-4299-c1b1-4f16e2086d08",
        "id": "P88tbCMiwUwN"
      },
      "execution_count": 221,
      "outputs": [
        {
          "output_type": "stream",
          "name": "stdout",
          "text": [
            "You did not choose apples.\n"
          ]
        }
      ]
    },
    {
      "cell_type": "code",
      "source": [
        "choice = \"apple\""
      ],
      "metadata": {
        "id": "pMJWHWfLCBAz"
      },
      "execution_count": 222,
      "outputs": []
    },
    {
      "cell_type": "code",
      "source": [
        "if choice == \"apple\":\n",
        "\n",
        "    print(\"You choose apples.\")\n",
        "    print(\"Thank you, shop again!\")\n",
        "\n",
        "elif choice == \"orange\":          #elif means \"else if\", an alternative to the first choice\n",
        "\n",
        "    print(\"You choose oranges.\")\n",
        "    print(\"Thank you, shop again!\")\n",
        "\n",
        "else:\n",
        "    \n",
        "    print(\"You did not choose apples or oranges.\")\n",
        "    print(\"Thank you, shop again!\")"
      ],
      "metadata": {
        "colab": {
          "base_uri": "https://localhost:8080/"
        },
        "id": "aLYE3A7Qv5Oq",
        "outputId": "b245bdf8-0430-4f20-b9f4-66043c1cb2b7"
      },
      "execution_count": 223,
      "outputs": [
        {
          "output_type": "stream",
          "name": "stdout",
          "text": [
            "You choose apples.\n",
            "Thank you, shop again!\n"
          ]
        }
      ]
    },
    {
      "cell_type": "markdown",
      "source": [
        "### User Input"
      ],
      "metadata": {
        "id": "DS5-YMih0kcD"
      }
    },
    {
      "cell_type": "code",
      "source": [
        "choice = input(\"Please enter your choice (i.e. apple): \") #input allows the user to type in a text box"
      ],
      "metadata": {
        "id": "VtkIsuCmv5T4",
        "colab": {
          "base_uri": "https://localhost:8080/"
        },
        "outputId": "cf58274f-04d1-4a79-b85e-564755cdf087"
      },
      "execution_count": 224,
      "outputs": [
        {
          "name": "stdout",
          "output_type": "stream",
          "text": [
            "Please enter your choice (i.e. apple): oranges\n"
          ]
        }
      ]
    },
    {
      "cell_type": "code",
      "source": [
        "choice #displays what the user typed"
      ],
      "metadata": {
        "colab": {
          "base_uri": "https://localhost:8080/",
          "height": 35
        },
        "id": "qRPsF5Njv5WL",
        "outputId": "f12f6f76-6c6a-48fc-9a58-604d5e4174a7"
      },
      "execution_count": 225,
      "outputs": [
        {
          "output_type": "execute_result",
          "data": {
            "text/plain": [
              "'oranges'"
            ],
            "application/vnd.google.colaboratory.intrinsic+json": {
              "type": "string"
            }
          },
          "metadata": {},
          "execution_count": 225
        }
      ]
    },
    {
      "cell_type": "code",
      "source": [
        "if choice == \"apple\":\n",
        "\n",
        "    print(\"You choose apples.\")\n",
        "\n",
        "elif choice == \"oranges\":\n",
        "\n",
        "    print(\"You choose oranges.\")\n",
        "\n",
        "else:\n",
        "    \n",
        "    print(\"You did not choose apples or oranges.\") #evaluates what the user typed and decided if it was under \"if\" or \"elif\", or neither"
      ],
      "metadata": {
        "id": "VAMAM01i0ytR",
        "colab": {
          "base_uri": "https://localhost:8080/"
        },
        "outputId": "15939bb5-701e-4e24-9072-9f1a64894944"
      },
      "execution_count": 226,
      "outputs": [
        {
          "output_type": "stream",
          "name": "stdout",
          "text": [
            "You choose oranges.\n"
          ]
        }
      ]
    },
    {
      "cell_type": "markdown",
      "source": [
        "#### Coins"
      ],
      "metadata": {
        "id": "W-bPqHQs5WEW"
      }
    },
    {
      "cell_type": "code",
      "source": [
        "import numpy as np"
      ],
      "metadata": {
        "id": "elmmCefU9wKV"
      },
      "execution_count": 227,
      "outputs": []
    },
    {
      "cell_type": "code",
      "source": [
        "np.random.random()   #generate random number between 0 and 1"
      ],
      "metadata": {
        "id": "Qo72tOfu5YTm",
        "colab": {
          "base_uri": "https://localhost:8080/"
        },
        "outputId": "5dd8b83b-be48-4179-ba9c-4f16908975ed"
      },
      "execution_count": 228,
      "outputs": [
        {
          "output_type": "execute_result",
          "data": {
            "text/plain": [
              "0.2936772064232126"
            ]
          },
          "metadata": {},
          "execution_count": 228
        }
      ]
    },
    {
      "cell_type": "code",
      "source": [
        "np.random.random() > 0.5   #if the number generated is greater than 0.5, the output is true"
      ],
      "metadata": {
        "id": "Ew6vCebg5aXK",
        "colab": {
          "base_uri": "https://localhost:8080/"
        },
        "outputId": "ed4ca8d9-1764-44ad-aa3d-be627b13c239"
      },
      "execution_count": 229,
      "outputs": [
        {
          "output_type": "execute_result",
          "data": {
            "text/plain": [
              "True"
            ]
          },
          "metadata": {},
          "execution_count": 229
        }
      ]
    },
    {
      "cell_type": "code",
      "source": [
        "def flip_coin():         #heads vs tails function\n",
        "    if np.random.random() > 0.5:\n",
        "        print(\"Heads\")         #if value is greater than 0.5, show heads\n",
        "    else:\n",
        "        print(\"Tails\")         #if value is less than 0.5, show tails"
      ],
      "metadata": {
        "id": "HwbqZHbm5e2u"
      },
      "execution_count": 230,
      "outputs": []
    },
    {
      "cell_type": "code",
      "source": [
        "flip_coin()     #ask python to generate number between 0 and 1 and display assigned output depending on value"
      ],
      "metadata": {
        "id": "ZcbnR1ln5sNh",
        "colab": {
          "base_uri": "https://localhost:8080/"
        },
        "outputId": "9baa4eb4-b315-47ec-8cbf-39f12ad16fc5"
      },
      "execution_count": 231,
      "outputs": [
        {
          "output_type": "stream",
          "name": "stdout",
          "text": [
            "Tails\n"
          ]
        }
      ]
    },
    {
      "cell_type": "markdown",
      "source": [
        "### Graphics Output"
      ],
      "metadata": {
        "id": "lrL2Razq9AT7"
      }
    },
    {
      "cell_type": "code",
      "metadata": {
        "id": "WPnpRgBWpoSP"
      },
      "source": [
        "from IPython.core.display import display, HTML #import HTML in python"
      ],
      "execution_count": 232,
      "outputs": []
    },
    {
      "cell_type": "code",
      "metadata": {
        "id": "scoPAjX5I36X",
        "colab": {
          "base_uri": "https://localhost:8080/",
          "height": 74
        },
        "outputId": "76ec5201-8d4e-4a6c-83bb-44a419b31857"
      },
      "source": [
        "display(HTML('<h1>Hello, world!</h1>'))    #how to display text from a code cell"
      ],
      "execution_count": 233,
      "outputs": [
        {
          "output_type": "display_data",
          "data": {
            "text/plain": [
              "<IPython.core.display.HTML object>"
            ],
            "text/html": [
              "<h1>Hello, world!</h1>"
            ]
          },
          "metadata": {}
        }
      ]
    },
    {
      "cell_type": "code",
      "metadata": {
        "id": "vFHNmtSRpyXg"
      },
      "source": [
        "def coin():          # function coin() is defined by a command asking python to choose randomly between the first 2 numbers\n",
        "  return np.random.randint(2)     "
      ],
      "execution_count": 234,
      "outputs": []
    },
    {
      "cell_type": "code",
      "metadata": {
        "id": "AfAPWIjzp2gY",
        "colab": {
          "base_uri": "https://localhost:8080/"
        },
        "outputId": "8363eb15-cced-4591-99b8-716b969fd1b1"
      },
      "source": [
        "coin()    #running np.random.randint(2) under its function name"
      ],
      "execution_count": 235,
      "outputs": [
        {
          "output_type": "execute_result",
          "data": {
            "text/plain": [
              "1"
            ]
          },
          "metadata": {},
          "execution_count": 235
        }
      ]
    },
    {
      "cell_type": "code",
      "metadata": {
        "id": "m-fkSNLTp4TH",
        "colab": {
          "base_uri": "https://localhost:8080/",
          "height": 221
        },
        "outputId": "cd832494-bce4-46bf-f06b-fee026cd2468"
      },
      "source": [
        "display(HTML('<img src=\"https://random-ize.com/coin-flip/us-quarter/us-quarter-front.jpg\">'))  #shows image using HTML"
      ],
      "execution_count": 236,
      "outputs": [
        {
          "output_type": "display_data",
          "data": {
            "text/plain": [
              "<IPython.core.display.HTML object>"
            ],
            "text/html": [
              "<img src=\"https://random-ize.com/coin-flip/us-quarter/us-quarter-front.jpg\">"
            ]
          },
          "metadata": {}
        }
      ]
    },
    {
      "cell_type": "code",
      "metadata": {
        "id": "PAyD2RQrq8ji"
      },
      "source": [
        "heads = 'https://random-ize.com/coin-flip/us-quarter/us-quarter-front.jpg'   #defines head and tails variables\n",
        "tails = 'https://random-ize.com/coin-flip/us-quarter/us-quarter-back.jpg'"
      ],
      "execution_count": 237,
      "outputs": []
    },
    {
      "cell_type": "code",
      "metadata": {
        "id": "BmZMzsCjrhaV"
      },
      "source": [
        "def show_img(img):          #defines funtion to display either heads or tail image\n",
        "  display(HTML('<img src=' + img + '>'))"
      ],
      "execution_count": 238,
      "outputs": []
    },
    {
      "cell_type": "code",
      "metadata": {
        "id": "UmSs0Jtrr_d2",
        "colab": {
          "base_uri": "https://localhost:8080/",
          "height": 221
        },
        "outputId": "d40dc3bc-2da5-4120-9a42-cc91cae05b4a"
      },
      "source": [
        "show_img(heads)   #show heads image"
      ],
      "execution_count": 239,
      "outputs": [
        {
          "output_type": "display_data",
          "data": {
            "text/plain": [
              "<IPython.core.display.HTML object>"
            ],
            "text/html": [
              "<img src=https://random-ize.com/coin-flip/us-quarter/us-quarter-front.jpg>"
            ]
          },
          "metadata": {}
        }
      ]
    },
    {
      "cell_type": "code",
      "metadata": {
        "id": "LDcFpan0sBgm",
        "colab": {
          "base_uri": "https://localhost:8080/",
          "height": 221
        },
        "outputId": "9935bdab-14e7-4785-cc45-a1efb4c68e56"
      },
      "source": [
        "show_img(tails)       #show tails image"
      ],
      "execution_count": 240,
      "outputs": [
        {
          "output_type": "display_data",
          "data": {
            "text/plain": [
              "<IPython.core.display.HTML object>"
            ],
            "text/html": [
              "<img src=https://random-ize.com/coin-flip/us-quarter/us-quarter-back.jpg>"
            ]
          },
          "metadata": {}
        }
      ]
    },
    {
      "cell_type": "code",
      "metadata": {
        "id": "U1Oe2gBlsFFQ"
      },
      "source": [
        "def flip_coin():     #define coin flip function\n",
        "\n",
        "    if coin():            #tells python when to show heads\n",
        "        show_img(heads)        \n",
        "    else:                 #tells python that if it doesn't show heads, show tails\n",
        "        show_img(tails)"
      ],
      "execution_count": 241,
      "outputs": []
    },
    {
      "cell_type": "code",
      "metadata": {
        "id": "qatV0cO1tLAF",
        "colab": {
          "base_uri": "https://localhost:8080/",
          "height": 221
        },
        "outputId": "59f417ac-a065-435a-bfff-02011fe3733d"
      },
      "source": [
        "flip_coin()     #actual coin flip"
      ],
      "execution_count": 242,
      "outputs": [
        {
          "output_type": "display_data",
          "data": {
            "text/plain": [
              "<IPython.core.display.HTML object>"
            ],
            "text/html": [
              "<img src=https://random-ize.com/coin-flip/us-quarter/us-quarter-front.jpg>"
            ]
          },
          "metadata": {}
        }
      ]
    },
    {
      "cell_type": "code",
      "source": [
        "for i in range(5):\n",
        "    flip_coin()           #flip coin 5 times"
      ],
      "metadata": {
        "id": "JK_63sBc9ze4",
        "colab": {
          "base_uri": "https://localhost:8080/",
          "height": 1000
        },
        "outputId": "677dde20-099c-4bd1-874e-6f491290a481"
      },
      "execution_count": 243,
      "outputs": [
        {
          "output_type": "display_data",
          "data": {
            "text/plain": [
              "<IPython.core.display.HTML object>"
            ],
            "text/html": [
              "<img src=https://random-ize.com/coin-flip/us-quarter/us-quarter-back.jpg>"
            ]
          },
          "metadata": {}
        },
        {
          "output_type": "display_data",
          "data": {
            "text/plain": [
              "<IPython.core.display.HTML object>"
            ],
            "text/html": [
              "<img src=https://random-ize.com/coin-flip/us-quarter/us-quarter-front.jpg>"
            ]
          },
          "metadata": {}
        },
        {
          "output_type": "display_data",
          "data": {
            "text/plain": [
              "<IPython.core.display.HTML object>"
            ],
            "text/html": [
              "<img src=https://random-ize.com/coin-flip/us-quarter/us-quarter-back.jpg>"
            ]
          },
          "metadata": {}
        },
        {
          "output_type": "display_data",
          "data": {
            "text/plain": [
              "<IPython.core.display.HTML object>"
            ],
            "text/html": [
              "<img src=https://random-ize.com/coin-flip/us-quarter/us-quarter-front.jpg>"
            ]
          },
          "metadata": {}
        },
        {
          "output_type": "display_data",
          "data": {
            "text/plain": [
              "<IPython.core.display.HTML object>"
            ],
            "text/html": [
              "<img src=https://random-ize.com/coin-flip/us-quarter/us-quarter-front.jpg>"
            ]
          },
          "metadata": {}
        }
      ]
    },
    {
      "cell_type": "code",
      "metadata": {
        "id": "T6VX51Qwt4xb",
        "colab": {
          "base_uri": "https://localhost:8080/",
          "height": 221
        },
        "outputId": "73ba32db-8fa0-4ae8-c6eb-39b2b6a80448"
      },
      "source": [
        "#@title Coin Flip\n",
        "\n",
        "if coin():\n",
        "\n",
        "  show_img(heads)\n",
        "\n",
        "else:\n",
        "\n",
        "  show_img(tails)"
      ],
      "execution_count": 244,
      "outputs": [
        {
          "output_type": "display_data",
          "data": {
            "text/plain": [
              "<IPython.core.display.HTML object>"
            ],
            "text/html": [
              "<img src=https://random-ize.com/coin-flip/us-quarter/us-quarter-front.jpg>"
            ]
          },
          "metadata": {}
        }
      ]
    },
    {
      "cell_type": "code",
      "source": [],
      "metadata": {
        "id": "dbEMqBu1AVja"
      },
      "execution_count": 244,
      "outputs": []
    },
    {
      "cell_type": "markdown",
      "source": [
        "### Cards"
      ],
      "metadata": {
        "id": "HYFhDwx-5Tmb"
      }
    },
    {
      "cell_type": "code",
      "source": [
        "def shuffle(x):\n",
        "    for i in range(len(x)-1,0,-1):\n",
        "        j = np.random.randint(0,i+1)\n",
        "        x[i],x[j] = x[j],x[i]\n",
        "        # print(j,x)\n",
        "    return x"
      ],
      "metadata": {
        "id": "Q7_rInrY0wvF"
      },
      "execution_count": 245,
      "outputs": []
    },
    {
      "cell_type": "code",
      "source": [
        "a = np.arange(52) #shows the first 52 numbers"
      ],
      "metadata": {
        "id": "b_ywmb911RR0"
      },
      "execution_count": 246,
      "outputs": []
    },
    {
      "cell_type": "code",
      "source": [
        "shuffle(a) #shuffles the first 52 numbers"
      ],
      "metadata": {
        "id": "hp96Lx2n9tCg",
        "colab": {
          "base_uri": "https://localhost:8080/"
        },
        "outputId": "4c4ef90e-692e-41f5-fa5c-87b9ff7873a5"
      },
      "execution_count": 247,
      "outputs": [
        {
          "output_type": "execute_result",
          "data": {
            "text/plain": [
              "array([34, 14,  0, 49, 42, 44,  7, 31, 50, 26, 30, 37, 40, 16, 51, 25, 36,\n",
              "       33, 24,  3,  5,  9, 38, 20, 27, 28,  1, 21, 48, 46, 13,  6,  4, 47,\n",
              "       12, 41, 43, 23, 17,  2, 10, 19,  8, 32, 18, 29, 22, 45, 35, 15, 39,\n",
              "       11])"
            ]
          },
          "metadata": {},
          "execution_count": 247
        }
      ]
    },
    {
      "cell_type": "code",
      "source": [
        "np.random.permutation(52) #function to directly get the first 52 numbers and shuffle them"
      ],
      "metadata": {
        "id": "DRlb5RrU2Xpz",
        "colab": {
          "base_uri": "https://localhost:8080/"
        },
        "outputId": "0e4d07f9-7c8c-49d0-ba19-05b7016266ae"
      },
      "execution_count": 248,
      "outputs": [
        {
          "output_type": "execute_result",
          "data": {
            "text/plain": [
              "array([18, 50,  4, 10, 31, 23, 30,  9, 46, 25, 12, 42,  1, 26,  6, 20, 37,\n",
              "       16,  2, 47, 51,  5, 14, 40, 44, 28, 29, 22, 39, 49, 36, 11, 38, 17,\n",
              "       48, 32, 35,  8, 13, 15,  0, 43, 27, 41, 21,  3,  7, 24, 33, 45, 19,\n",
              "       34])"
            ]
          },
          "metadata": {},
          "execution_count": 248
        }
      ]
    },
    {
      "cell_type": "markdown",
      "source": [
        "### Speed Test"
      ],
      "metadata": {
        "id": "qE1o4X7A-NnY"
      }
    },
    {
      "cell_type": "code",
      "source": [
        "%%timeit   \n",
        "shuffle(a) #measures how long the cell took to execute the command"
      ],
      "metadata": {
        "id": "quhAyA2x-Dhg",
        "colab": {
          "base_uri": "https://localhost:8080/"
        },
        "outputId": "b952c199-00f1-4a31-c7e1-c0cde60d6cd0"
      },
      "execution_count": 249,
      "outputs": [
        {
          "output_type": "stream",
          "name": "stdout",
          "text": [
            "176 µs ± 8.12 µs per loop (mean ± std. dev. of 7 runs, 1000 loops each)\n"
          ]
        }
      ]
    },
    {
      "cell_type": "code",
      "source": [
        "%%timeit\n",
        "np.random.permutation(52)"
      ],
      "metadata": {
        "id": "tSfGgWQD95RN",
        "colab": {
          "base_uri": "https://localhost:8080/"
        },
        "outputId": "22f92125-194f-476d-ceb6-e0ee5cacb23c"
      },
      "execution_count": 250,
      "outputs": [
        {
          "output_type": "stream",
          "name": "stdout",
          "text": [
            "3.34 µs ± 134 ns per loop (mean ± std. dev. of 7 runs, 100000 loops each)\n"
          ]
        }
      ]
    },
    {
      "cell_type": "code",
      "source": [
        "import numpy as np"
      ],
      "metadata": {
        "id": "BeE0MU3UDB5P"
      },
      "execution_count": 251,
      "outputs": []
    },
    {
      "cell_type": "code",
      "source": [
        "np.random.permutation(52)"
      ],
      "metadata": {
        "colab": {
          "base_uri": "https://localhost:8080/"
        },
        "id": "2d81sDv-C5fC",
        "outputId": "f641f611-89ed-445f-a0cb-bcdf2f6b0ee8"
      },
      "execution_count": 252,
      "outputs": [
        {
          "output_type": "execute_result",
          "data": {
            "text/plain": [
              "array([ 0, 38, 48, 26, 39, 12, 16, 37, 51, 15, 36, 30, 11,  5, 22, 17, 14,\n",
              "       32, 21, 42, 47,  9, 46,  2,  7, 40, 34, 50,  1, 43, 44, 41, 31, 29,\n",
              "       20, 27, 45,  3, 19, 18, 35,  8,  6, 25, 24, 13, 28, 10, 23, 49, 33,\n",
              "        4])"
            ]
          },
          "metadata": {},
          "execution_count": 252
        }
      ]
    },
    {
      "cell_type": "code",
      "source": [
        "cards = np.random.permutation(52) #variable defined by the function"
      ],
      "metadata": {
        "id": "utgxB3Hs-XzM"
      },
      "execution_count": 253,
      "outputs": []
    },
    {
      "cell_type": "code",
      "source": [
        "cards #displays function"
      ],
      "metadata": {
        "colab": {
          "base_uri": "https://localhost:8080/"
        },
        "id": "ymjkesO4DeL8",
        "outputId": "6df1b5bb-a111-490e-bf82-07b8daf12740"
      },
      "execution_count": 254,
      "outputs": [
        {
          "output_type": "execute_result",
          "data": {
            "text/plain": [
              "array([32, 10, 31, 37, 27, 15, 50, 13, 36, 51, 47, 28,  0, 18, 35, 44,  6,\n",
              "       33, 23, 46, 42, 38,  7, 25, 48, 12, 43,  2, 14, 16, 24, 39, 22, 41,\n",
              "       49,  8, 40, 11, 34,  5, 19, 45,  3,  4, 21, 30, 20, 26, 17,  1, 29,\n",
              "        9])"
            ]
          },
          "metadata": {},
          "execution_count": 254
        }
      ]
    },
    {
      "cell_type": "code",
      "source": [
        "cards[0] #shows first number in array"
      ],
      "metadata": {
        "id": "aD_pF-bb2XMr",
        "colab": {
          "base_uri": "https://localhost:8080/"
        },
        "outputId": "945e74d2-2414-4213-9913-8f6dee5ea188"
      },
      "execution_count": 255,
      "outputs": [
        {
          "output_type": "execute_result",
          "data": {
            "text/plain": [
              "32"
            ]
          },
          "metadata": {},
          "execution_count": 255
        }
      ]
    },
    {
      "cell_type": "code",
      "source": [
        "cards[1] #shows second number in array"
      ],
      "metadata": {
        "colab": {
          "base_uri": "https://localhost:8080/"
        },
        "id": "oMX21ZDyC8GE",
        "outputId": "4f377ee2-6c3a-461d-a9d2-0c7b6a81f612"
      },
      "execution_count": 256,
      "outputs": [
        {
          "output_type": "execute_result",
          "data": {
            "text/plain": [
              "10"
            ]
          },
          "metadata": {},
          "execution_count": 256
        }
      ]
    },
    {
      "cell_type": "code",
      "source": [
        "cards[2]#shows third number in array"
      ],
      "metadata": {
        "colab": {
          "base_uri": "https://localhost:8080/"
        },
        "id": "iHJdkqRiC8Li",
        "outputId": "de699c86-0d1d-413f-dc71-d54a03fbaddc"
      },
      "execution_count": 257,
      "outputs": [
        {
          "output_type": "execute_result",
          "data": {
            "text/plain": [
              "31"
            ]
          },
          "metadata": {},
          "execution_count": 257
        }
      ]
    },
    {
      "cell_type": "markdown",
      "source": [
        "<img src='http://www.milefoot.com/math/discrete/counting/images/cards.png'>"
      ],
      "metadata": {
        "id": "4nzZ-igCdyI2"
      }
    },
    {
      "cell_type": "code",
      "source": [
        "np.arange(52).reshape(4,13) #reshapes the list of numbers into 4 rows by 13 columns"
      ],
      "metadata": {
        "id": "X2kL-cZdeMLN",
        "colab": {
          "base_uri": "https://localhost:8080/"
        },
        "outputId": "2c918210-47d6-4529-b4ce-acff99695fc5"
      },
      "execution_count": 258,
      "outputs": [
        {
          "output_type": "execute_result",
          "data": {
            "text/plain": [
              "array([[ 0,  1,  2,  3,  4,  5,  6,  7,  8,  9, 10, 11, 12],\n",
              "       [13, 14, 15, 16, 17, 18, 19, 20, 21, 22, 23, 24, 25],\n",
              "       [26, 27, 28, 29, 30, 31, 32, 33, 34, 35, 36, 37, 38],\n",
              "       [39, 40, 41, 42, 43, 44, 45, 46, 47, 48, 49, 50, 51]])"
            ]
          },
          "metadata": {},
          "execution_count": 258
        }
      ]
    },
    {
      "cell_type": "code",
      "source": [
        "np.arange(52).reshape(4,13)%13  #modulo operator"
      ],
      "metadata": {
        "id": "YfRxhh8BeV_a",
        "colab": {
          "base_uri": "https://localhost:8080/"
        },
        "outputId": "f5027052-3bbc-4e0c-9c29-2ebd2c8cad28"
      },
      "execution_count": 259,
      "outputs": [
        {
          "output_type": "execute_result",
          "data": {
            "text/plain": [
              "array([[ 0,  1,  2,  3,  4,  5,  6,  7,  8,  9, 10, 11, 12],\n",
              "       [ 0,  1,  2,  3,  4,  5,  6,  7,  8,  9, 10, 11, 12],\n",
              "       [ 0,  1,  2,  3,  4,  5,  6,  7,  8,  9, 10, 11, 12],\n",
              "       [ 0,  1,  2,  3,  4,  5,  6,  7,  8,  9, 10, 11, 12]])"
            ]
          },
          "metadata": {},
          "execution_count": 259
        }
      ]
    },
    {
      "cell_type": "code",
      "source": [
        "np.arange(52).reshape(4,13)//13   #2 forward slashes means floor division"
      ],
      "metadata": {
        "id": "fdzIqJr9e60L",
        "colab": {
          "base_uri": "https://localhost:8080/"
        },
        "outputId": "50131808-7a04-468d-af9d-494fe9a15773"
      },
      "execution_count": 260,
      "outputs": [
        {
          "output_type": "execute_result",
          "data": {
            "text/plain": [
              "array([[0, 0, 0, 0, 0, 0, 0, 0, 0, 0, 0, 0, 0],\n",
              "       [1, 1, 1, 1, 1, 1, 1, 1, 1, 1, 1, 1, 1],\n",
              "       [2, 2, 2, 2, 2, 2, 2, 2, 2, 2, 2, 2, 2],\n",
              "       [3, 3, 3, 3, 3, 3, 3, 3, 3, 3, 3, 3, 3]])"
            ]
          },
          "metadata": {},
          "execution_count": 260
        }
      ]
    },
    {
      "cell_type": "code",
      "source": [
        "suits = ['Clubs','Spades','Hearts','Diamonds'] #4 different card suits\n",
        "names = ['Ace','Two','Three','Four','Five','Six','Seven','Eight','Nine','Ten','Jack','Queen','King'] #13 different card names"
      ],
      "metadata": {
        "id": "-xUjbfkQfUgL"
      },
      "execution_count": 261,
      "outputs": []
    },
    {
      "cell_type": "code",
      "source": [
        "def card_name(card_number):\n",
        "    \n",
        "    suit = card_number//13 #perform floor division for card suits\n",
        "    name = card_number%13 #use modulo operator for card names\n",
        "\n",
        "    return names[name] + \" of \" + suits[suit] #output is \"____ of ____\""
      ],
      "metadata": {
        "id": "-e-I-Cp7eFnx"
      },
      "execution_count": 262,
      "outputs": []
    },
    {
      "cell_type": "code",
      "source": [
        "card_name(0) #demonstrates function for first card"
      ],
      "metadata": {
        "colab": {
          "base_uri": "https://localhost:8080/",
          "height": 35
        },
        "id": "3Jz3yyAtGPfX",
        "outputId": "eb9406a4-839a-4788-9cde-89f029710f9e"
      },
      "execution_count": 263,
      "outputs": [
        {
          "output_type": "execute_result",
          "data": {
            "text/plain": [
              "'Ace of Clubs'"
            ],
            "application/vnd.google.colaboratory.intrinsic+json": {
              "type": "string"
            }
          },
          "metadata": {},
          "execution_count": 263
        }
      ]
    },
    {
      "cell_type": "code",
      "source": [
        "card_name(51) #demonstates function for 52nd card"
      ],
      "metadata": {
        "colab": {
          "base_uri": "https://localhost:8080/",
          "height": 35
        },
        "id": "WO3GC8uiGPp-",
        "outputId": "62c20d5b-ddc1-4267-f862-2632c941c434"
      },
      "execution_count": 264,
      "outputs": [
        {
          "output_type": "execute_result",
          "data": {
            "text/plain": [
              "'King of Diamonds'"
            ],
            "application/vnd.google.colaboratory.intrinsic+json": {
              "type": "string"
            }
          },
          "metadata": {},
          "execution_count": 264
        }
      ]
    },
    {
      "cell_type": "code",
      "source": [
        "cards = np.random.permutation(52) #new variable using random shuffling of 52 cards"
      ],
      "metadata": {
        "id": "fAMR6SY43iB_"
      },
      "execution_count": 265,
      "outputs": []
    },
    {
      "cell_type": "code",
      "source": [
        "top_of_deck         = card_name(cards[0]) #calls first card in deck by card_name function\n",
        "second_card_in_deck = card_name(cards[1])  #second card\n",
        "last_card_in_deck   = card_name(cards[-1]) # -1 is another way of saying 51, last card in deck"
      ],
      "metadata": {
        "id": "XGAe8yPY3iCA"
      },
      "execution_count": 266,
      "outputs": []
    },
    {
      "cell_type": "code",
      "source": [
        "top_of_deck, second_card_in_deck, last_card_in_deck #output of commannd"
      ],
      "metadata": {
        "id": "erDo7giQ3fg6",
        "colab": {
          "base_uri": "https://localhost:8080/"
        },
        "outputId": "1bce56c7-0bbd-4bc9-d345-8a1bdadf8354"
      },
      "execution_count": 267,
      "outputs": [
        {
          "output_type": "execute_result",
          "data": {
            "text/plain": [
              "('Queen of Clubs', 'Four of Hearts', 'Nine of Hearts')"
            ]
          },
          "metadata": {},
          "execution_count": 267
        }
      ]
    },
    {
      "cell_type": "code",
      "source": [
        "for i in range(5):\n",
        "    print(card_name(cards[i]))  #python gives the first 5 cards from the shuffled deck"
      ],
      "metadata": {
        "id": "D_TDdCHv30GR",
        "colab": {
          "base_uri": "https://localhost:8080/"
        },
        "outputId": "bc91defb-8180-4b66-e3dc-1f9164945877"
      },
      "execution_count": 268,
      "outputs": [
        {
          "output_type": "stream",
          "name": "stdout",
          "text": [
            "Queen of Clubs\n",
            "Four of Hearts\n",
            "Eight of Diamonds\n",
            "Ten of Hearts\n",
            "Three of Clubs\n"
          ]
        }
      ]
    },
    {
      "cell_type": "code",
      "source": [
        "for i in range(15):\n",
        "    print(card_name(cards[i]))  #python gives the first 15 cards from the shuffled deck"
      ],
      "metadata": {
        "colab": {
          "base_uri": "https://localhost:8080/"
        },
        "id": "_g9tC5TNHvXh",
        "outputId": "cb35011d-808c-4a5c-d78b-415b4aadb7c1"
      },
      "execution_count": 269,
      "outputs": [
        {
          "output_type": "stream",
          "name": "stdout",
          "text": [
            "Queen of Clubs\n",
            "Four of Hearts\n",
            "Eight of Diamonds\n",
            "Ten of Hearts\n",
            "Three of Clubs\n",
            "Two of Diamonds\n",
            "Three of Spades\n",
            "Eight of Spades\n",
            "Ace of Spades\n",
            "Ace of Hearts\n",
            "Six of Hearts\n",
            "Six of Spades\n",
            "Jack of Spades\n",
            "Ace of Diamonds\n",
            "Three of Hearts\n"
          ]
        }
      ]
    },
    {
      "cell_type": "markdown",
      "source": [
        "https://www.improvemagic.com/all-playing-cards-names-with-pictures/"
      ],
      "metadata": {
        "id": "vdqtmIBN_a7r"
      }
    },
    {
      "cell_type": "code",
      "source": [
        "card_url_head = \"https://www.improvemagic.com/wp-content/uploads/2020/11/\" #url for images of playing cards\n",
        "card_url_tail = \".png\""
      ],
      "metadata": {
        "id": "ZuGAbJIC_BGM"
      },
      "execution_count": 270,
      "outputs": []
    },
    {
      "cell_type": "code",
      "source": [
        "suit = ['k','p','s','l']   #4 different suits\n",
        "card = ['a','2','3','4','5','6','7','8','9','10','j','q','k'] #13 different cards"
      ],
      "metadata": {
        "id": "FSYUTq2F_BIx"
      },
      "execution_count": 271,
      "outputs": []
    },
    {
      "cell_type": "code",
      "source": [
        "i = np.random.randint(4) #give a random number up to 4\n",
        "j = np.random.randint(13)  #give a random number up to 13"
      ],
      "metadata": {
        "id": "4UBNVwxU_BL5"
      },
      "execution_count": 272,
      "outputs": []
    },
    {
      "cell_type": "code",
      "source": [
        "i,j #give both numbers as a coordinate"
      ],
      "metadata": {
        "colab": {
          "base_uri": "https://localhost:8080/"
        },
        "id": "pAx5veOKJYqk",
        "outputId": "abab1010-e3ed-488f-c038-fd3d3ef5e7bd"
      },
      "execution_count": 273,
      "outputs": [
        {
          "output_type": "execute_result",
          "data": {
            "text/plain": [
              "(3, 3)"
            ]
          },
          "metadata": {},
          "execution_count": 273
        }
      ]
    },
    {
      "cell_type": "code",
      "source": [
        "suit[i]  #give the value i that python genereated"
      ],
      "metadata": {
        "id": "PJI87rOLADjE",
        "colab": {
          "base_uri": "https://localhost:8080/",
          "height": 35
        },
        "outputId": "1e40c349-47d8-48c4-fbf7-5cd6ca60c24e"
      },
      "execution_count": 274,
      "outputs": [
        {
          "output_type": "execute_result",
          "data": {
            "text/plain": [
              "'l'"
            ],
            "application/vnd.google.colaboratory.intrinsic+json": {
              "type": "string"
            }
          },
          "metadata": {},
          "execution_count": 274
        }
      ]
    },
    {
      "cell_type": "code",
      "source": [
        "card[j]   #give the value j that python genereated"
      ],
      "metadata": {
        "id": "4CDlPu3QAGrB",
        "colab": {
          "base_uri": "https://localhost:8080/",
          "height": 35
        },
        "outputId": "e6660be9-f2d7-46f1-919e-bd922198396f"
      },
      "execution_count": 275,
      "outputs": [
        {
          "output_type": "execute_result",
          "data": {
            "text/plain": [
              "'4'"
            ],
            "application/vnd.google.colaboratory.intrinsic+json": {
              "type": "string"
            }
          },
          "metadata": {},
          "execution_count": 275
        }
      ]
    },
    {
      "cell_type": "code",
      "source": [
        "from IPython.core.display import display, HTML   #import HTML in python"
      ],
      "metadata": {
        "id": "nMrvAOnhK7EK"
      },
      "execution_count": 276,
      "outputs": []
    },
    {
      "cell_type": "code",
      "source": [
        "def show_img(img):                #defines funtion to display card image based on randomly generated card\n",
        "  display(HTML('<img src=' + img + '>'))"
      ],
      "metadata": {
        "id": "sdXvvvlkAI6h"
      },
      "execution_count": 277,
      "outputs": []
    },
    {
      "cell_type": "code",
      "source": [
        "img = card_url_head + suit[i] + card[j] + card_url_tail  #variable for card image"
      ],
      "metadata": {
        "id": "ZE-ENtczAVsM"
      },
      "execution_count": 278,
      "outputs": []
    },
    {
      "cell_type": "code",
      "source": [
        "show_img(img)  #displays ace of diamonds, the random card generated by i and j"
      ],
      "metadata": {
        "id": "XJpPMK-NAVu4",
        "colab": {
          "base_uri": "https://localhost:8080/",
          "height": 334
        },
        "outputId": "36c9d992-d7a9-4750-80d9-5afd12a2702e"
      },
      "execution_count": 279,
      "outputs": [
        {
          "output_type": "display_data",
          "data": {
            "text/plain": [
              "<IPython.core.display.HTML object>"
            ],
            "text/html": [
              "<img src=https://www.improvemagic.com/wp-content/uploads/2020/11/l4.png>"
            ]
          },
          "metadata": {}
        }
      ]
    },
    {
      "cell_type": "code",
      "source": [
        "def card_image(card_number):\n",
        "    \n",
        "    i = card_number//13\n",
        "    j = card_number%13\n",
        "\n",
        "    return suit[i]+card[j] #output is the coordinate of a the card in a 13x4 table"
      ],
      "metadata": {
        "id": "JtqOFl_WAVxd"
      },
      "execution_count": 280,
      "outputs": []
    },
    {
      "cell_type": "code",
      "source": [
        "card_image(3) #displays coordinates of 4th card"
      ],
      "metadata": {
        "id": "K1MVgXJ-AVz0",
        "colab": {
          "base_uri": "https://localhost:8080/",
          "height": 35
        },
        "outputId": "7d702478-938c-4d7b-fc49-eed2df2b2d44"
      },
      "execution_count": 281,
      "outputs": [
        {
          "output_type": "execute_result",
          "data": {
            "text/plain": [
              "'k4'"
            ],
            "application/vnd.google.colaboratory.intrinsic+json": {
              "type": "string"
            }
          },
          "metadata": {},
          "execution_count": 281
        }
      ]
    },
    {
      "cell_type": "code",
      "source": [
        "img = card_url_head + card_image(3) + card_url_tail  #variable for card image"
      ],
      "metadata": {
        "id": "2TGYbXUiB1iw"
      },
      "execution_count": 282,
      "outputs": []
    },
    {
      "cell_type": "code",
      "source": [
        "show_img(img) #displays card defined by coordinates \"k4\""
      ],
      "metadata": {
        "id": "Ve1UcoH3B5sS",
        "colab": {
          "base_uri": "https://localhost:8080/",
          "height": 333
        },
        "outputId": "8fd19fe2-a70c-45cc-841b-758c2ce74003"
      },
      "execution_count": 283,
      "outputs": [
        {
          "output_type": "display_data",
          "data": {
            "text/plain": [
              "<IPython.core.display.HTML object>"
            ],
            "text/html": [
              "<img src=https://www.improvemagic.com/wp-content/uploads/2020/11/k4.png>"
            ]
          },
          "metadata": {}
        }
      ]
    },
    {
      "cell_type": "code",
      "source": [
        "for i in range(52):\n",
        "    img = card_url_head + card_image(i) + card_url_tail\n",
        "    show_img(img)     #displays all 52 cards using img variable"
      ],
      "metadata": {
        "id": "UCervcFTB5ut",
        "colab": {
          "base_uri": "https://localhost:8080/",
          "height": 1000
        },
        "outputId": "14050e40-78b2-4840-d72e-1a27b43197c2"
      },
      "execution_count": 284,
      "outputs": [
        {
          "output_type": "display_data",
          "data": {
            "text/plain": [
              "<IPython.core.display.HTML object>"
            ],
            "text/html": [
              "<img src=https://www.improvemagic.com/wp-content/uploads/2020/11/ka.png>"
            ]
          },
          "metadata": {}
        },
        {
          "output_type": "display_data",
          "data": {
            "text/plain": [
              "<IPython.core.display.HTML object>"
            ],
            "text/html": [
              "<img src=https://www.improvemagic.com/wp-content/uploads/2020/11/k2.png>"
            ]
          },
          "metadata": {}
        },
        {
          "output_type": "display_data",
          "data": {
            "text/plain": [
              "<IPython.core.display.HTML object>"
            ],
            "text/html": [
              "<img src=https://www.improvemagic.com/wp-content/uploads/2020/11/k3.png>"
            ]
          },
          "metadata": {}
        },
        {
          "output_type": "display_data",
          "data": {
            "text/plain": [
              "<IPython.core.display.HTML object>"
            ],
            "text/html": [
              "<img src=https://www.improvemagic.com/wp-content/uploads/2020/11/k4.png>"
            ]
          },
          "metadata": {}
        },
        {
          "output_type": "display_data",
          "data": {
            "text/plain": [
              "<IPython.core.display.HTML object>"
            ],
            "text/html": [
              "<img src=https://www.improvemagic.com/wp-content/uploads/2020/11/k5.png>"
            ]
          },
          "metadata": {}
        },
        {
          "output_type": "display_data",
          "data": {
            "text/plain": [
              "<IPython.core.display.HTML object>"
            ],
            "text/html": [
              "<img src=https://www.improvemagic.com/wp-content/uploads/2020/11/k6.png>"
            ]
          },
          "metadata": {}
        },
        {
          "output_type": "display_data",
          "data": {
            "text/plain": [
              "<IPython.core.display.HTML object>"
            ],
            "text/html": [
              "<img src=https://www.improvemagic.com/wp-content/uploads/2020/11/k7.png>"
            ]
          },
          "metadata": {}
        },
        {
          "output_type": "display_data",
          "data": {
            "text/plain": [
              "<IPython.core.display.HTML object>"
            ],
            "text/html": [
              "<img src=https://www.improvemagic.com/wp-content/uploads/2020/11/k8.png>"
            ]
          },
          "metadata": {}
        },
        {
          "output_type": "display_data",
          "data": {
            "text/plain": [
              "<IPython.core.display.HTML object>"
            ],
            "text/html": [
              "<img src=https://www.improvemagic.com/wp-content/uploads/2020/11/k9.png>"
            ]
          },
          "metadata": {}
        },
        {
          "output_type": "display_data",
          "data": {
            "text/plain": [
              "<IPython.core.display.HTML object>"
            ],
            "text/html": [
              "<img src=https://www.improvemagic.com/wp-content/uploads/2020/11/k10.png>"
            ]
          },
          "metadata": {}
        },
        {
          "output_type": "display_data",
          "data": {
            "text/plain": [
              "<IPython.core.display.HTML object>"
            ],
            "text/html": [
              "<img src=https://www.improvemagic.com/wp-content/uploads/2020/11/kj.png>"
            ]
          },
          "metadata": {}
        },
        {
          "output_type": "display_data",
          "data": {
            "text/plain": [
              "<IPython.core.display.HTML object>"
            ],
            "text/html": [
              "<img src=https://www.improvemagic.com/wp-content/uploads/2020/11/kq.png>"
            ]
          },
          "metadata": {}
        },
        {
          "output_type": "display_data",
          "data": {
            "text/plain": [
              "<IPython.core.display.HTML object>"
            ],
            "text/html": [
              "<img src=https://www.improvemagic.com/wp-content/uploads/2020/11/kk.png>"
            ]
          },
          "metadata": {}
        },
        {
          "output_type": "display_data",
          "data": {
            "text/plain": [
              "<IPython.core.display.HTML object>"
            ],
            "text/html": [
              "<img src=https://www.improvemagic.com/wp-content/uploads/2020/11/pa.png>"
            ]
          },
          "metadata": {}
        },
        {
          "output_type": "display_data",
          "data": {
            "text/plain": [
              "<IPython.core.display.HTML object>"
            ],
            "text/html": [
              "<img src=https://www.improvemagic.com/wp-content/uploads/2020/11/p2.png>"
            ]
          },
          "metadata": {}
        },
        {
          "output_type": "display_data",
          "data": {
            "text/plain": [
              "<IPython.core.display.HTML object>"
            ],
            "text/html": [
              "<img src=https://www.improvemagic.com/wp-content/uploads/2020/11/p3.png>"
            ]
          },
          "metadata": {}
        },
        {
          "output_type": "display_data",
          "data": {
            "text/plain": [
              "<IPython.core.display.HTML object>"
            ],
            "text/html": [
              "<img src=https://www.improvemagic.com/wp-content/uploads/2020/11/p4.png>"
            ]
          },
          "metadata": {}
        },
        {
          "output_type": "display_data",
          "data": {
            "text/plain": [
              "<IPython.core.display.HTML object>"
            ],
            "text/html": [
              "<img src=https://www.improvemagic.com/wp-content/uploads/2020/11/p5.png>"
            ]
          },
          "metadata": {}
        },
        {
          "output_type": "display_data",
          "data": {
            "text/plain": [
              "<IPython.core.display.HTML object>"
            ],
            "text/html": [
              "<img src=https://www.improvemagic.com/wp-content/uploads/2020/11/p6.png>"
            ]
          },
          "metadata": {}
        },
        {
          "output_type": "display_data",
          "data": {
            "text/plain": [
              "<IPython.core.display.HTML object>"
            ],
            "text/html": [
              "<img src=https://www.improvemagic.com/wp-content/uploads/2020/11/p7.png>"
            ]
          },
          "metadata": {}
        },
        {
          "output_type": "display_data",
          "data": {
            "text/plain": [
              "<IPython.core.display.HTML object>"
            ],
            "text/html": [
              "<img src=https://www.improvemagic.com/wp-content/uploads/2020/11/p8.png>"
            ]
          },
          "metadata": {}
        },
        {
          "output_type": "display_data",
          "data": {
            "text/plain": [
              "<IPython.core.display.HTML object>"
            ],
            "text/html": [
              "<img src=https://www.improvemagic.com/wp-content/uploads/2020/11/p9.png>"
            ]
          },
          "metadata": {}
        },
        {
          "output_type": "display_data",
          "data": {
            "text/plain": [
              "<IPython.core.display.HTML object>"
            ],
            "text/html": [
              "<img src=https://www.improvemagic.com/wp-content/uploads/2020/11/p10.png>"
            ]
          },
          "metadata": {}
        },
        {
          "output_type": "display_data",
          "data": {
            "text/plain": [
              "<IPython.core.display.HTML object>"
            ],
            "text/html": [
              "<img src=https://www.improvemagic.com/wp-content/uploads/2020/11/pj.png>"
            ]
          },
          "metadata": {}
        },
        {
          "output_type": "display_data",
          "data": {
            "text/plain": [
              "<IPython.core.display.HTML object>"
            ],
            "text/html": [
              "<img src=https://www.improvemagic.com/wp-content/uploads/2020/11/pq.png>"
            ]
          },
          "metadata": {}
        },
        {
          "output_type": "display_data",
          "data": {
            "text/plain": [
              "<IPython.core.display.HTML object>"
            ],
            "text/html": [
              "<img src=https://www.improvemagic.com/wp-content/uploads/2020/11/pk.png>"
            ]
          },
          "metadata": {}
        },
        {
          "output_type": "display_data",
          "data": {
            "text/plain": [
              "<IPython.core.display.HTML object>"
            ],
            "text/html": [
              "<img src=https://www.improvemagic.com/wp-content/uploads/2020/11/sa.png>"
            ]
          },
          "metadata": {}
        },
        {
          "output_type": "display_data",
          "data": {
            "text/plain": [
              "<IPython.core.display.HTML object>"
            ],
            "text/html": [
              "<img src=https://www.improvemagic.com/wp-content/uploads/2020/11/s2.png>"
            ]
          },
          "metadata": {}
        },
        {
          "output_type": "display_data",
          "data": {
            "text/plain": [
              "<IPython.core.display.HTML object>"
            ],
            "text/html": [
              "<img src=https://www.improvemagic.com/wp-content/uploads/2020/11/s3.png>"
            ]
          },
          "metadata": {}
        },
        {
          "output_type": "display_data",
          "data": {
            "text/plain": [
              "<IPython.core.display.HTML object>"
            ],
            "text/html": [
              "<img src=https://www.improvemagic.com/wp-content/uploads/2020/11/s4.png>"
            ]
          },
          "metadata": {}
        },
        {
          "output_type": "display_data",
          "data": {
            "text/plain": [
              "<IPython.core.display.HTML object>"
            ],
            "text/html": [
              "<img src=https://www.improvemagic.com/wp-content/uploads/2020/11/s5.png>"
            ]
          },
          "metadata": {}
        },
        {
          "output_type": "display_data",
          "data": {
            "text/plain": [
              "<IPython.core.display.HTML object>"
            ],
            "text/html": [
              "<img src=https://www.improvemagic.com/wp-content/uploads/2020/11/s6.png>"
            ]
          },
          "metadata": {}
        },
        {
          "output_type": "display_data",
          "data": {
            "text/plain": [
              "<IPython.core.display.HTML object>"
            ],
            "text/html": [
              "<img src=https://www.improvemagic.com/wp-content/uploads/2020/11/s7.png>"
            ]
          },
          "metadata": {}
        },
        {
          "output_type": "display_data",
          "data": {
            "text/plain": [
              "<IPython.core.display.HTML object>"
            ],
            "text/html": [
              "<img src=https://www.improvemagic.com/wp-content/uploads/2020/11/s8.png>"
            ]
          },
          "metadata": {}
        },
        {
          "output_type": "display_data",
          "data": {
            "text/plain": [
              "<IPython.core.display.HTML object>"
            ],
            "text/html": [
              "<img src=https://www.improvemagic.com/wp-content/uploads/2020/11/s9.png>"
            ]
          },
          "metadata": {}
        },
        {
          "output_type": "display_data",
          "data": {
            "text/plain": [
              "<IPython.core.display.HTML object>"
            ],
            "text/html": [
              "<img src=https://www.improvemagic.com/wp-content/uploads/2020/11/s10.png>"
            ]
          },
          "metadata": {}
        },
        {
          "output_type": "display_data",
          "data": {
            "text/plain": [
              "<IPython.core.display.HTML object>"
            ],
            "text/html": [
              "<img src=https://www.improvemagic.com/wp-content/uploads/2020/11/sj.png>"
            ]
          },
          "metadata": {}
        },
        {
          "output_type": "display_data",
          "data": {
            "text/plain": [
              "<IPython.core.display.HTML object>"
            ],
            "text/html": [
              "<img src=https://www.improvemagic.com/wp-content/uploads/2020/11/sq.png>"
            ]
          },
          "metadata": {}
        },
        {
          "output_type": "display_data",
          "data": {
            "text/plain": [
              "<IPython.core.display.HTML object>"
            ],
            "text/html": [
              "<img src=https://www.improvemagic.com/wp-content/uploads/2020/11/sk.png>"
            ]
          },
          "metadata": {}
        },
        {
          "output_type": "display_data",
          "data": {
            "text/plain": [
              "<IPython.core.display.HTML object>"
            ],
            "text/html": [
              "<img src=https://www.improvemagic.com/wp-content/uploads/2020/11/la.png>"
            ]
          },
          "metadata": {}
        },
        {
          "output_type": "display_data",
          "data": {
            "text/plain": [
              "<IPython.core.display.HTML object>"
            ],
            "text/html": [
              "<img src=https://www.improvemagic.com/wp-content/uploads/2020/11/l2.png>"
            ]
          },
          "metadata": {}
        },
        {
          "output_type": "display_data",
          "data": {
            "text/plain": [
              "<IPython.core.display.HTML object>"
            ],
            "text/html": [
              "<img src=https://www.improvemagic.com/wp-content/uploads/2020/11/l3.png>"
            ]
          },
          "metadata": {}
        },
        {
          "output_type": "display_data",
          "data": {
            "text/plain": [
              "<IPython.core.display.HTML object>"
            ],
            "text/html": [
              "<img src=https://www.improvemagic.com/wp-content/uploads/2020/11/l4.png>"
            ]
          },
          "metadata": {}
        },
        {
          "output_type": "display_data",
          "data": {
            "text/plain": [
              "<IPython.core.display.HTML object>"
            ],
            "text/html": [
              "<img src=https://www.improvemagic.com/wp-content/uploads/2020/11/l5.png>"
            ]
          },
          "metadata": {}
        },
        {
          "output_type": "display_data",
          "data": {
            "text/plain": [
              "<IPython.core.display.HTML object>"
            ],
            "text/html": [
              "<img src=https://www.improvemagic.com/wp-content/uploads/2020/11/l6.png>"
            ]
          },
          "metadata": {}
        },
        {
          "output_type": "display_data",
          "data": {
            "text/plain": [
              "<IPython.core.display.HTML object>"
            ],
            "text/html": [
              "<img src=https://www.improvemagic.com/wp-content/uploads/2020/11/l7.png>"
            ]
          },
          "metadata": {}
        },
        {
          "output_type": "display_data",
          "data": {
            "text/plain": [
              "<IPython.core.display.HTML object>"
            ],
            "text/html": [
              "<img src=https://www.improvemagic.com/wp-content/uploads/2020/11/l8.png>"
            ]
          },
          "metadata": {}
        },
        {
          "output_type": "display_data",
          "data": {
            "text/plain": [
              "<IPython.core.display.HTML object>"
            ],
            "text/html": [
              "<img src=https://www.improvemagic.com/wp-content/uploads/2020/11/l9.png>"
            ]
          },
          "metadata": {}
        },
        {
          "output_type": "display_data",
          "data": {
            "text/plain": [
              "<IPython.core.display.HTML object>"
            ],
            "text/html": [
              "<img src=https://www.improvemagic.com/wp-content/uploads/2020/11/l10.png>"
            ]
          },
          "metadata": {}
        },
        {
          "output_type": "display_data",
          "data": {
            "text/plain": [
              "<IPython.core.display.HTML object>"
            ],
            "text/html": [
              "<img src=https://www.improvemagic.com/wp-content/uploads/2020/11/lj.png>"
            ]
          },
          "metadata": {}
        },
        {
          "output_type": "display_data",
          "data": {
            "text/plain": [
              "<IPython.core.display.HTML object>"
            ],
            "text/html": [
              "<img src=https://www.improvemagic.com/wp-content/uploads/2020/11/lq.png>"
            ]
          },
          "metadata": {}
        },
        {
          "output_type": "display_data",
          "data": {
            "text/plain": [
              "<IPython.core.display.HTML object>"
            ],
            "text/html": [
              "<img src=https://www.improvemagic.com/wp-content/uploads/2020/11/lk.png>"
            ]
          },
          "metadata": {}
        }
      ]
    }
  ]
}